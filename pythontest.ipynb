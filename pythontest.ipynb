{
 "cells": [
  {
   "cell_type": "code",
   "execution_count": 1,
   "id": "7a66e815",
   "metadata": {},
   "outputs": [
    {
     "name": "stdout",
     "output_type": "stream",
     "text": [
      "15\n",
      "5\n",
      "50\n",
      "2.0\n"
     ]
    }
   ],
   "source": [
    "#Q1. Create two variables a = 10 and b = 5. Print their sum, difference, product, and division.\n",
    "\n",
    "a = 10\n",
    "b = 5 \n",
    "print(a+b)\n",
    "print(a-b)\n",
    "print(a*b)\n",
    "print(a/b)"
   ]
  },
  {
   "cell_type": "code",
   "execution_count": 3,
   "id": "34f67f72",
   "metadata": {},
   "outputs": [
    {
     "name": "stdout",
     "output_type": "stream",
     "text": [
      "10\n"
     ]
    }
   ],
   "source": [
    "#Q2. What is the output of this code?\n",
    "\n",
    "x = 7\n",
    "x += 3\n",
    "print(x)\n",
    " "
   ]
  },
  {
   "cell_type": "code",
   "execution_count": 4,
   "id": "84d87cd1",
   "metadata": {},
   "outputs": [
    {
     "name": "stdout",
     "output_type": "stream",
     "text": [
      "odd\n"
     ]
    }
   ],
   "source": [
    "#Q3. Write a program to check if a number is even or odd. Use variable num = 15.\n",
    "\n",
    "num = 15 \n",
    "if num%2 ==0:\n",
    "    print(\"even\")\n",
    "else:\n",
    "    print(\"odd\")"
   ]
  },
  {
   "cell_type": "code",
   "execution_count": 6,
   "id": "b0dcd9fc",
   "metadata": {},
   "outputs": [
    {
     "name": "stdout",
     "output_type": "stream",
     "text": [
      "['apple', 'banana', 'cherry']\n",
      "['apple', 'banana', 'cherry', 'orange']\n"
     ]
    }
   ],
   "source": [
    "\n",
    "#Q4. Create a list with fruits: [\"apple\", \"banana\", \"cherry\"] and add \"orange\" to the list.\n",
    "\n",
    "myfruits = [\"apple\", \"banana\", \"cherry\"]\n",
    "print(myfruits)\n",
    "myfruits.append(\"orange\")\n",
    "print(myfruits)"
   ]
  },
  {
   "cell_type": "code",
   "execution_count": 7,
   "id": "6a68fe40",
   "metadata": {},
   "outputs": [
    {
     "name": "stdout",
     "output_type": "stream",
     "text": [
      "500\n"
     ]
    }
   ],
   "source": [
    "#Q5. From the list [100, 200, 300, 400, 500], print the last element using negative indexing.\n",
    "\n",
    "list9 = [100,200,300,400,500]\n",
    "print(list9[-1])"
   ]
  },
  {
   "cell_type": "code",
   "execution_count": 8,
   "id": "457c60d6",
   "metadata": {},
   "outputs": [
    {
     "name": "stdout",
     "output_type": "stream",
     "text": [
      "3\n"
     ]
    }
   ],
   "source": [
    "#Q6. What is the output?\n",
    "a = 10\n",
    "b = 3\n",
    "print(a // b)"
   ]
  },
  {
   "cell_type": "code",
   "execution_count": 10,
   "id": "b6dddb89",
   "metadata": {},
   "outputs": [
    {
     "name": "stdout",
     "output_type": "stream",
     "text": [
      "['apple', 'grape', 'cherry', 'orange']\n"
     ]
    }
   ],
   "source": [
    "\n",
    "#Q7. Replace \"banana\" with \"grape\" in this list: fruits = [\"apple\", \"banana\", \"cherry\"]\n",
    "\n",
    "myfruits[1] = \"grape\"\n",
    "print(myfruits)"
   ]
  },
  {
   "cell_type": "code",
   "execution_count": 12,
   "id": "bd502dc5",
   "metadata": {},
   "outputs": [
    {
     "name": "stdout",
     "output_type": "stream",
     "text": [
      "[1, 2, 3, 4]\n"
     ]
    }
   ],
   "source": [
    "#Q8. Combine these two lists:\n",
    "\n",
    "a = [1, 2]\n",
    "b = [3, 4]\n",
    "a.extend(b)\n",
    "print(a)"
   ]
  },
  {
   "cell_type": "code",
   "execution_count": null,
   "id": "0bed37ae",
   "metadata": {},
   "outputs": [
    {
     "name": "stdout",
     "output_type": "stream",
     "text": [
      "15\n"
     ]
    }
   ],
   "source": [
    "#Q9. Create a list of 5 numbers and find the sum using sum() function.\n",
    "\n",
    "list11 = [1,2,3,4,5]\n",
    "print(sum(list11))"
   ]
  },
  {
   "cell_type": "code",
   "execution_count": 14,
   "id": "0bfa2a16",
   "metadata": {},
   "outputs": [
    {
     "name": "stdout",
     "output_type": "stream",
     "text": [
      "25\n"
     ]
    }
   ],
   "source": [
    "\n",
    "#Q10. What is the output of:\n",
    "x = 5\n",
    "y = 2\n",
    "print(x ** y)\n"
   ]
  }
 ],
 "metadata": {
  "kernelspec": {
   "display_name": ".venv",
   "language": "python",
   "name": "python3"
  },
  "language_info": {
   "codemirror_mode": {
    "name": "ipython",
    "version": 3
   },
   "file_extension": ".py",
   "mimetype": "text/x-python",
   "name": "python",
   "nbconvert_exporter": "python",
   "pygments_lexer": "ipython3",
   "version": "3.13.3"
  }
 },
 "nbformat": 4,
 "nbformat_minor": 5
}
