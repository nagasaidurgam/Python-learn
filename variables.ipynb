{
 "cells": [
  {
   "cell_type": "code",
   "execution_count": null,
   "id": "d07c0613",
   "metadata": {},
   "outputs": [
    {
     "name": "stdout",
     "output_type": "stream",
     "text": [
      "Hello World Python\n"
     ]
    }
   ],
   "source": [
    "\n",
    "A variable can have a short name (like x and y) or a more \n",
    "descriptive name (age, carname, total_volume).\n",
    "\n",
    "Rules for Python variables:\n",
    "\n",
    "A variable name must start with a letter or the underscore character\n",
    "A variable name cannot start with a number\n",
    "A variable name can only contain alpha-numeric characters and underscores (A-z, 0-9, and _ )\n",
    "Variable names are case-sensitive (age, Age and AGE are three different variables)\n",
    "A variable name cannot be any of the Python keywords.\n",
    "\n",
    "myname = \"Venkat\"\n",
    "Myname = \"Venkat\"\n",
    "my_name =\"venkat\"\n",
    "x= \"abc\"\n",
    "X=\"abc\"\n",
    "\n",
    "\n",
    "Camel Case\n",
    "Each word, except the first, starts with a capital letter:\n",
    "\n",
    "myVariableName = \"Venkat\"\n",
    "\n",
    "Pascal Case\n",
    "Each word starts with a capital letter:\n",
    "\n",
    "MyVariableName = \"Venkat\"\n",
    "\n",
    "Snake Case\n",
    "Each word is separated by an underscore character:\n",
    "\n",
    "my_variable_name = \"Venkat\"\n",
    "\n",
    "\"\"\""
   ]
  },
  {
   "cell_type": "code",
   "execution_count": 36,
   "id": "1f35f649",
   "metadata": {},
   "outputs": [
    {
     "name": "stdout",
     "output_type": "stream",
     "text": [
      "this is my first Python Program\n"
     ]
    }
   ],
   "source": [
    "print(\"this is my first Python Program\")"
   ]
  },
  {
   "cell_type": "code",
   "execution_count": 37,
   "id": "29bc6eb8",
   "metadata": {},
   "outputs": [
    {
     "data": {
      "text/plain": [
       "'\\nthis \\nis for multiple\\nlines\\n'"
      ]
     },
     "execution_count": 37,
     "metadata": {},
     "output_type": "execute_result"
    }
   ],
   "source": [
    "# this is for single  commenting line \n",
    "\"\"\"\n",
    "this \n",
    "is for multiple\n",
    "lines\n",
    "\"\"\"\n"
   ]
  },
  {
   "cell_type": "code",
   "execution_count": 13,
   "id": "a41b219f",
   "metadata": {},
   "outputs": [
    {
     "name": "stdout",
     "output_type": "stream",
     "text": [
      "Durga\n",
      "Durga  @ Matta\n",
      "<class 'str'>\n"
     ]
    }
   ],
   "source": [
    "myfirstname = \"Durga\"\n",
    "mylastname = \"Matta\"\n",
    "print(myfirstname)\n",
    "print(myfirstname + \"  @ \" + mylastname)\n",
    "print(type(myfirstname))"
   ]
  },
  {
   "cell_type": "code",
   "execution_count": 39,
   "id": "6f029cd7",
   "metadata": {},
   "outputs": [
    {
     "name": "stdout",
     "output_type": "stream",
     "text": [
      "<class 'int'>\n"
     ]
    }
   ],
   "source": [
    "saleprice = 22\n",
    "print(type(saleprice))"
   ]
  },
  {
   "cell_type": "code",
   "execution_count": 40,
   "id": "01d7a620",
   "metadata": {},
   "outputs": [
    {
     "name": "stdout",
     "output_type": "stream",
     "text": [
      "<class 'float'>\n"
     ]
    }
   ],
   "source": [
    "CostPrice = 11.50\n",
    "print(type(CostPrice))"
   ]
  },
  {
   "cell_type": "code",
   "execution_count": 41,
   "id": "7f911f18",
   "metadata": {},
   "outputs": [
    {
     "name": "stdout",
     "output_type": "stream",
     "text": [
      "11.5\n"
     ]
    }
   ],
   "source": [
    "ProductName = str(\"samsung\")\n",
    "ProductPrice = int(30)\n",
    "ProductQty = float(11.50)\n",
    "print(ProductQty)"
   ]
  },
  {
   "cell_type": "code",
   "execution_count": 14,
   "id": "191820a4",
   "metadata": {},
   "outputs": [
    {
     "name": "stdout",
     "output_type": "stream",
     "text": [
      "32\n",
      "1220\n"
     ]
    }
   ],
   "source": [
    "x = 12\n",
    "y = 20\n",
    "print(x+y)\n",
    "print(str(x)+str(y))"
   ]
  },
  {
   "cell_type": "code",
   "execution_count": null,
   "id": "431e69bc",
   "metadata": {},
   "outputs": [
    {
     "name": "stdout",
     "output_type": "stream",
     "text": [
      "(4+2j)\n"
     ]
    }
   ],
   "source": [
    "#complex numbers\n",
    "x = 3+4j\n",
    "y = 1-2j\n",
    "print(x+y)"
   ]
  },
  {
   "cell_type": "code",
   "execution_count": 44,
   "id": "68f2b0a4",
   "metadata": {},
   "outputs": [
    {
     "name": "stdout",
     "output_type": "stream",
     "text": [
      "his age is26\n"
     ]
    }
   ],
   "source": [
    "hisAge = 26\n",
    "print(\"his age is\"+ str(hisAge))"
   ]
  },
  {
   "cell_type": "code",
   "execution_count": 45,
   "id": "efc8d39f",
   "metadata": {},
   "outputs": [
    {
     "name": "stdout",
     "output_type": "stream",
     "text": [
      "1234\n"
     ]
    }
   ],
   "source": [
    "batchno = 1234\n",
    "print(int(1234))"
   ]
  },
  {
   "cell_type": "code",
   "execution_count": null,
   "id": "c6a6dce8",
   "metadata": {},
   "outputs": [
    {
     "name": "stdout",
     "output_type": "stream",
     "text": [
      "9\n"
     ]
    }
   ],
   "source": [
    "#length\n",
    "CompanyName = \"Cognizant\"\n",
    "print(len(CompanyName))"
   ]
  },
  {
   "cell_type": "code",
   "execution_count": 47,
   "id": "dc439075",
   "metadata": {},
   "outputs": [
    {
     "name": "stdout",
     "output_type": "stream",
     "text": [
      "9\n",
      "The length of the ConpanyName is 9\n"
     ]
    }
   ],
   "source": [
    "mylength = len(CompanyName)\n",
    "print(mylength)\n",
    "print(\"The length of the ConpanyName is \" + str(mylength))"
   ]
  },
  {
   "cell_type": "code",
   "execution_count": 48,
   "id": "dd20547f",
   "metadata": {},
   "outputs": [
    {
     "name": "stdout",
     "output_type": "stream",
     "text": [
      "True\n",
      "False\n"
     ]
    }
   ],
   "source": [
    "mytext = \"Today is a great day to start\"\n",
    "print(\"day\" in mytext)\n",
    "print(\"check\" in mytext)"
   ]
  },
  {
   "cell_type": "code",
   "execution_count": 50,
   "id": "42c52b8e",
   "metadata": {},
   "outputs": [
    {
     "name": "stdout",
     "output_type": "stream",
     "text": [
      "ood M\n",
      "Good\n",
      "\n"
     ]
    }
   ],
   "source": [
    "#slicing\n",
    "\n",
    "Greeting = \"Good Morning\"\n",
    "print(Greeting[1:6]) #slicing the required characters\n",
    "print(Greeting[0:4]) #slicing from the beginnning\n",
    "print(Greeting[5:1]) "
   ]
  },
  {
   "cell_type": "code",
   "execution_count": 15,
   "id": "74ea7f0e",
   "metadata": {},
   "outputs": [
    {
     "name": "stdout",
     "output_type": "stream",
     "text": [
      "shi\n",
      "hiva\n"
     ]
    }
   ],
   "source": [
    "durga = \"shiva\"\n",
    "print(durga[0:3])\n",
    "print(durga[1:5])"
   ]
  },
  {
   "cell_type": "code",
   "execution_count": 54,
   "id": "7240b5d4",
   "metadata": {},
   "outputs": [
    {
     "name": "stdout",
     "output_type": "stream",
     "text": [
      "This is a random text\n"
     ]
    }
   ],
   "source": [
    "sometext = \"This is a random text\"\n",
    "print(sometext.strip())"
   ]
  },
  {
   "cell_type": "code",
   "execution_count": 55,
   "id": "2cd89252",
   "metadata": {},
   "outputs": [
    {
     "name": "stdout",
     "output_type": "stream",
     "text": [
      "durga\n",
      "shiva\n"
     ]
    }
   ],
   "source": [
    "myname = \"durga\"\n",
    "print(myname)\n",
    "myname = \"shiva\"\n",
    "print(myname)"
   ]
  },
  {
   "cell_type": "code",
   "execution_count": 56,
   "id": "d0704bd1",
   "metadata": {},
   "outputs": [
    {
     "name": "stdout",
     "output_type": "stream",
     "text": [
      "srinu lakshmi\n"
     ]
    }
   ],
   "source": [
    "myfname = \"srinu\"\n",
    "mymname = \"lakshmi\"\n",
    "print(myfname + \" \"+mymname)"
   ]
  },
  {
   "cell_type": "code",
   "execution_count": 57,
   "id": "c0879e2c",
   "metadata": {},
   "outputs": [
    {
     "name": "stdout",
     "output_type": "stream",
     "text": [
      "55\n"
     ]
    }
   ],
   "source": [
    "CostPrice = 45\n",
    "profit = 10\n",
    "saleprice = CostPrice + profit\n",
    "print(saleprice)"
   ]
  },
  {
   "cell_type": "code",
   "execution_count": 24,
   "id": "37e73818",
   "metadata": {},
   "outputs": [
    {
     "name": "stdout",
     "output_type": "stream",
     "text": [
      "positive number\n"
     ]
    }
   ],
   "source": [
    "#if statement - an if condition runs a block of code only if a given condition is true.\n",
    "num = 10\n",
    "if num > 0:\n",
    "    print(\"positive number\")\n",
    "    \n",
    "\n",
    "    "
   ]
  },
  {
   "cell_type": "code",
   "execution_count": null,
   "id": "968dceac",
   "metadata": {},
   "outputs": [
    {
     "name": "stdout",
     "output_type": "stream",
     "text": [
      "Negative\n"
     ]
    }
   ],
   "source": [
    "#if -else statement - it executes 1 block if the condition is true , another it is false\n",
    "num = -5\n",
    "if num > 0:\n",
    "    print(\"non-negative\")\n",
    "else:\n",
    "    print(\"Negative\")"
   ]
  },
  {
   "cell_type": "code",
   "execution_count": 4,
   "id": "87418b69",
   "metadata": {},
   "outputs": [
    {
     "name": "stdout",
     "output_type": "stream",
     "text": [
      "warm\n"
     ]
    }
   ],
   "source": [
    "#f-elif-else statemnet - when you have multiple conditions to check in sequence\n",
    "temp = 30\n",
    "if temp > 35:\n",
    "    print(\"hot\")\n",
    "elif temp > 20:\n",
    "    print(\"warm\")\n",
    "else:\n",
    "    print(\"cold\")"
   ]
  },
  {
   "cell_type": "code",
   "execution_count": 5,
   "id": "010bce62",
   "metadata": {},
   "outputs": [
    {
     "name": "stdout",
     "output_type": "stream",
     "text": [
      " x is between 5 and 15\n"
     ]
    }
   ],
   "source": [
    "#nested if statement - an if block inside another if block to check multiple conditions hierachically\n",
    "x = 10\n",
    "if x > 5:\n",
    "    if x < 15:\n",
    "        print(\" x is between 5 and 15\")"
   ]
  },
  {
   "cell_type": "code",
   "execution_count": null,
   "id": "baf8350d",
   "metadata": {},
   "outputs": [
    {
     "name": "stdout",
     "output_type": "stream",
     "text": [
      "1\n",
      "2\n",
      "3\n",
      "4\n",
      "5\n",
      "6\n",
      "7\n",
      "8\n",
      "9\n",
      "10\n"
     ]
    }
   ],
   "source": [
    "#while loop executes a block as long as condition is true\n",
    "i = 1\n",
    "while i <= 10:\n",
    "    print(i)\n",
    "    i += 1"
   ]
  },
  {
   "cell_type": "code",
   "execution_count": null,
   "id": "754893ca",
   "metadata": {},
   "outputs": [
    {
     "name": "stdout",
     "output_type": "stream",
     "text": [
      "1\n",
      "2\n",
      "3\n",
      "4\n",
      "5\n",
      "6\n",
      "7\n",
      "8\n",
      "9\n",
      "10\n"
     ]
    }
   ],
   "source": [
    "#While loop with break \n",
    "# break exists the loop immediately even if the condition is still true\n",
    "\n",
    "i = 1\n",
    "while i <= 20:\n",
    "    if i <=10:\n",
    "        print(i)\n",
    "  "
   ]
  },
  {
   "cell_type": "code",
   "execution_count": 18,
   "id": "8c2a7a7b",
   "metadata": {},
   "outputs": [
    {
     "name": "stdout",
     "output_type": "stream",
     "text": [
      "1\n",
      "3\n",
      "5\n",
      "7\n",
      "9\n"
     ]
    }
   ],
   "source": [
    "i = 0\n",
    "while i < 10:\n",
    "    i += 1\n",
    "    if i%2 == 0:\n",
    "        continue\n",
    "    print(i)"
   ]
  },
  {
   "cell_type": "code",
   "execution_count": 19,
   "id": "d8b40c41",
   "metadata": {},
   "outputs": [
    {
     "name": "stdout",
     "output_type": "stream",
     "text": [
      "1\n",
      "3\n",
      "5\n",
      "7\n",
      "9\n"
     ]
    }
   ],
   "source": [
    "#while loop with continue\n",
    "i = 0\n",
    "while i < 10:\n",
    "    i += 1\n",
    "    if i % 2 == 0:\n",
    "        continue\n",
    "    print(i)"
   ]
  },
  {
   "cell_type": "code",
   "execution_count": 25,
   "id": "bc04476a",
   "metadata": {},
   "outputs": [
    {
     "name": "stdout",
     "output_type": "stream",
     "text": [
      "This is {even} number\n"
     ]
    }
   ],
   "source": [
    "#check even or odd\n",
    "num = 18\n",
    "if num% 2 ==0:\n",
    "    print( \"This is {even} number\")\n",
    "else:\n",
    "    print(\"odd\")"
   ]
  },
  {
   "cell_type": "code",
   "execution_count": null,
   "id": "837e1a2f",
   "metadata": {},
   "outputs": [
    {
     "name": "stdout",
     "output_type": "stream",
     "text": [
      "A\n"
     ]
    }
   ],
   "source": [
    "#grade checking\n",
    "Marks = 82\n",
    "if Marks >= 90:\n",
    "    print(\"A+\")\n",
    "elif Marks >= 80:\n",
    "    print(\"A\")\n",
    "elif Marks >= 70:\n",
    "    print(\"B\")\n",
    "else:\n",
    "    print(\"C or lower\")"
   ]
  },
  {
   "cell_type": "code",
   "execution_count": 27,
   "id": "8d7bb4ed",
   "metadata": {},
   "outputs": [
    {
     "name": "stdout",
     "output_type": "stream",
     "text": [
      "Not a Leap Year\n"
     ]
    }
   ],
   "source": [
    "#leap year are not\n",
    "Year = 2025\n",
    "if(Year % 400 == 0):\n",
    "    print(\"Leap Year\")\n",
    "else:\n",
    "    print(\"Not a Leap Year\")"
   ]
  },
  {
   "cell_type": "code",
   "execution_count": 29,
   "id": "22e29d13",
   "metadata": {},
   "outputs": [
    {
     "name": "stdout",
     "output_type": "stream",
     "text": [
      "2\n",
      "4\n",
      "6\n",
      "8\n",
      "10\n"
     ]
    }
   ],
   "source": [
    "#print even numbers 2  to 10\n",
    "\n",
    "i =2 \n",
    "while i <= 10:\n",
    "    if i %2 == 0:\n",
    "        print(i)\n",
    "        i += 2"
   ]
  },
  {
   "cell_type": "code",
   "execution_count": 28,
   "id": "bbdb3d53",
   "metadata": {},
   "outputs": [
    {
     "name": "stdout",
     "output_type": "stream",
     "text": [
      "10\n",
      "12\n",
      "14\n",
      "16\n",
      "18\n",
      "20\n"
     ]
    }
   ],
   "source": [
    "i = 10\n",
    "while i <= 20:\n",
    "    if i % 2 == 0:\n",
    "        print(i)\n",
    "        i += 2\n",
    "   \n"
   ]
  },
  {
   "cell_type": "code",
   "execution_count": 31,
   "id": "e895adea",
   "metadata": {},
   "outputs": [
    {
     "name": "stdout",
     "output_type": "stream",
     "text": [
      "factorial: 120\n"
     ]
    }
   ],
   "source": [
    "#factorial\n",
    "n = 5\n",
    "fact = 1\n",
    "i = 1\n",
    "while i <= n:\n",
    "    fact *= i\n",
    "    i += 1\n",
    "print(\"factorial:\", fact)\n"
   ]
  },
  {
   "cell_type": "code",
   "execution_count": 29,
   "id": "f74ece6a",
   "metadata": {},
   "outputs": [
    {
     "name": "stdout",
     "output_type": "stream",
     "text": [
      "factorial is : 1\n",
      "factorial is : 2\n",
      "factorial is : 6\n",
      "factorial is : 24\n",
      "factorial is : 120\n",
      "factorial is : 720\n",
      "factorial is : 5040\n",
      "factorial is : 40320\n",
      "factorial is : 362880\n",
      "factorial is : 3628800\n"
     ]
    }
   ],
   "source": [
    "n = 10\n",
    "fact = 1\n",
    "i = 1\n",
    "while i <= n:\n",
    "    fact *= i\n",
    "    i += 1\n",
    "    print(\"factorial is :\", fact)"
   ]
  },
  {
   "cell_type": "code",
   "execution_count": 34,
   "id": "e9a864fe",
   "metadata": {},
   "outputs": [
    {
     "name": "stdout",
     "output_type": "stream",
     "text": [
      "Reversed: 54321\n"
     ]
    }
   ],
   "source": [
    "#reverse number\n",
    "num = 12345\n",
    "rev = 0\n",
    "while num > 0:\n",
    "    digit = num % 10\n",
    "    rev = rev * 10 + digit\n",
    "    num = num // 10\n",
    "print(\"Reversed:\", rev)"
   ]
  },
  {
   "cell_type": "code",
   "execution_count": null,
   "id": "fe88fe81",
   "metadata": {},
   "outputs": [
    {
     "name": "stdout",
     "output_type": "stream",
     "text": [
      "Reversenumberis: 2\n",
      "Reversenumberis: 22\n",
      "Reversenumberis: 220\n",
      "Reversenumberis: 2208\n",
      "Reversenumberis: 22081\n",
      "Reversenumberis: 220819\n",
      "Reversenumberis: 2208199\n",
      "Reversenumberis: 22081998\n"
     ]
    }
   ],
   "source": [
    "num7 = 89918022\n",
    "rev = 0\n",
    "while num7 > 0:\n",
    "    digit = num7 % 10  #89918022% 10 = 2\n",
    "    rev = rev * 10 + digit # 0+2 =2; \n",
    "    num7 = num7 // 10 #floor divison round last number\n",
    "    print(\"Reverse numberis:\", rev)"
   ]
  },
  {
   "cell_type": "code",
   "execution_count": null,
   "id": "44ddacb9",
   "metadata": {},
   "outputs": [],
   "source": []
  },
  {
   "cell_type": "code",
   "execution_count": null,
   "id": "022f54e2",
   "metadata": {},
   "outputs": [],
   "source": [
    "\n",
    "Variables are containers for storing data values.\n",
    "\n",
    "Ex : myName = \"Tom\"\n",
    "\n",
    "Variables do not need to be declared with any particular type, and can even change type after they have been set."
   ]
  },
  {
   "cell_type": "code",
   "execution_count": 1,
   "id": "bea11558",
   "metadata": {},
   "outputs": [
    {
     "name": "stdout",
     "output_type": "stream",
     "text": [
      "Durga\n",
      "22\n"
     ]
    }
   ],
   "source": [
    "myname = \"Durga\"\n",
    "print(myname)\n",
    "myname = 22\n",
    "print(myname)"
   ]
  },
  {
   "cell_type": "code",
   "execution_count": 3,
   "id": "73c01c76",
   "metadata": {},
   "outputs": [
    {
     "name": "stdout",
     "output_type": "stream",
     "text": [
      "<class 'int'>\n"
     ]
    }
   ],
   "source": [
    "\n",
    "\n",
    "#You can get the data type of a variable with the type() function.\n",
    "\n",
    "\n",
    "print(type(myname))"
   ]
  },
  {
   "cell_type": "code",
   "execution_count": 6,
   "id": "6e2d0cd5",
   "metadata": {},
   "outputs": [
    {
     "name": "stdout",
     "output_type": "stream",
     "text": [
      "Naga\n",
      "sai\n",
      "durga\n"
     ]
    }
   ],
   "source": [
    "Myname = \"Naga\"\n",
    "myName =\"sai\"\n",
    "myname = \"durga\"\n",
    "print(Myname)\n",
    "print(myName)\n",
    "print(myname)"
   ]
  },
  {
   "cell_type": "code",
   "execution_count": null,
   "id": "fc12bf50",
   "metadata": {},
   "outputs": [],
   "source": [
    "Rules for Python variables:\n",
    "\n",
    "A variable name must start with a letter or the underscore character\n",
    "A variable name cannot start with a number\n",
    "A variable name can only contain alpha-numeric characters and underscores (A-z, 0-9, and _ )\n",
    "Variable names are case-sensitive (age, Age and AGE are three different variables)\n",
    "A variable name cannot be any of the Python keywords.\n",
    "\n",
    "Camel Case\n",
    "Each word, except the first, starts with a capital letter:\n",
    "\n",
    "Ex:\n",
    "studentName = \"Ashok\"\n",
    "companyLocation = \"Hyderabad\"\n",
    "\n",
    "Pascal Case\n",
    "Each word starts with a capital letter:\n",
    "\n",
    "Ex:\n",
    "StudentName = \"Ashok\"\n",
    "CompanyLocation = \"Hyderabad\"\n",
    "\n",
    "Snake Case\n",
    "Each word is separated by an underscore character:\n",
    "\n",
    "student_name = \"Ashok\"\n",
    "company_location = \"Hyderabad\"\n"
   ]
  },
  {
   "cell_type": "code",
   "execution_count": 12,
   "id": "ffe7ca14",
   "metadata": {},
   "outputs": [
    {
     "name": "stdout",
     "output_type": "stream",
     "text": [
      "Naga Sai Durga Mattaparthi\n",
      "3000.0\n"
     ]
    }
   ],
   "source": [
    "#prinicpal interest\n",
    "\n",
    "FirstName, Middlename,  LastName = \"Naga\", \"Sai Durga\",\"Mattaparthi\"\n",
    "print(FirstName, Middlename,LastName)\n",
    "p,t, r = 50000,2,3\n",
    "i = p*t*r/100\n",
    "print(i)"
   ]
  },
  {
   "cell_type": "code",
   "execution_count": null,
   "id": "4a3ebbb6",
   "metadata": {},
   "outputs": [],
   "source": [
    "Built-in Data Types\n",
    "In programming, data type is an important concept.\n",
    "\n",
    "Variables can store data of different types, and different types can do different things.\n",
    "\n",
    "Python has the following data types built-in by default, in these categories:\n",
    "\n",
    "Text Type:\tstr\n",
    "Numeric Types:\tint, float, complex\n",
    "Sequence Types:\tlist, tuple, range\n",
    "Mapping Type:\tdict\n",
    "Set Types:\tset, frozenset\n",
    "Boolean Type:\tbool\n",
    "\n",
    "Ex:\n",
    "\n",
    "myName = Str(\"Tom\")\n",
    "myRollNo = int(10)\n",
    "SalePrice = float(12.50)\n"
   ]
  },
  {
   "cell_type": "code",
   "execution_count": null,
   "id": "c6498062",
   "metadata": {},
   "outputs": [],
   "source": []
  }
 ],
 "metadata": {
  "kernelspec": {
   "display_name": ".venv",
   "language": "python",
   "name": "python3"
  },
  "language_info": {
   "codemirror_mode": {
    "name": "ipython",
    "version": 3
   },
   "file_extension": ".py",
   "mimetype": "text/x-python",
   "name": "python",
   "nbconvert_exporter": "python",
   "pygments_lexer": "ipython3",
   "version": "3.13.3"
  }
 },
 "nbformat": 4,
 "nbformat_minor": 5
}
