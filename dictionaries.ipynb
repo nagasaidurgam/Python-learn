{
 "cells": [
  {
   "cell_type": "code",
   "execution_count": null,
   "id": "e52a6394",
   "metadata": {},
   "outputs": [],
   "source": [
    "Dictionary\n",
    "Dictionaries are used to store data values in key:value pairs.\n",
    "\n",
    "A dictionary is a collection which is ordered*, changeable and do not allow duplicates.\n",
    "\n",
    "Dictionaries are written with curly brackets, and have keys and values:"
   ]
  },
  {
   "cell_type": "code",
   "execution_count": null,
   "id": "9fceb8e3",
   "metadata": {},
   "outputs": [],
   "source": [
    "Dictionary Items\n",
    "Dictionary items are ordered, changeable, and do not allow duplicates.\n",
    "\n",
    "Dictionary items are presented in key:value pairs, and can be referred to by using the key name.\n",
    "\n",
    "Ordered or Unordered?\n",
    "As of Python version 3.7, dictionaries are ordered. In Python 3.6 and earlier, dictionaries are unordered.\n",
    "\n",
    "When we say that dictionaries are ordered, it means that the items have a defined order, and that order will not change.\n",
    "\n",
    "Unordered means that the items do not have a defined order, you cannot refer to an item by using an index.\n",
    "\n",
    "Changeable\n",
    "Dictionaries are changeable, meaning that we can change, add or remove items after the dictionary has been created.\n",
    "\n",
    "Duplicates Not Allowed\n",
    "Dictionaries cannot have two items with the same key:"
   ]
  },
  {
   "cell_type": "code",
   "execution_count": 1,
   "id": "1ade71ba",
   "metadata": {},
   "outputs": [
    {
     "name": "stdout",
     "output_type": "stream",
     "text": [
      "{'Name': 'John', 'Age': 20, 'Grade': 'A'}\n"
     ]
    }
   ],
   "source": [
    "#Python DicƟonary – Homework Exercises\n",
    "#1. Create a Student DicƟonary Create a dicƟonary called student with the following keys:\n",
    "# 'name': 'John' 'age': 20 'grade': 'A' Print the value of each key.\n",
    "\n",
    "Students = {\n",
    "    \"Name\" :\"John\",\n",
    "    \"Age\" : 20,\n",
    "    \"Grade\" :\"A\"\n",
    "}\n",
    "print(Students)"
   ]
  },
  {
   "cell_type": "code",
   "execution_count": 7,
   "id": "24f41aa6",
   "metadata": {},
   "outputs": [
    {
     "name": "stdout",
     "output_type": "stream",
     "text": [
      "{'Brand': 'Honda', 'Model': 'Civic', 'Year': 2025}\n"
     ]
    }
   ],
   "source": [
    "#2. Add and Update Values\n",
    "\"\"\"\n",
    "Create a dicƟonary:\n",
    "car = {'brand': 'Honda', 'model': 'City'}\n",
    " Add a new key 'year' with value 2023.\n",
    " Update the value of 'model' to 'Civic'.\n",
    "\"\"\"\n",
    "\n",
    "Car = {\n",
    "    \"Brand\" : \"Honda\",\n",
    "    \"Model\" : \"city\"\n",
    "}\n",
    "\n",
    "Car[\"Year\"] = 2025\n",
    "Car.update({\"Model\":\"Civic\"})\n",
    "print(Car)\n"
   ]
  },
  {
   "cell_type": "code",
   "execution_count": 3,
   "id": "710b1ae5",
   "metadata": {},
   "outputs": [
    {
     "name": "stdout",
     "output_type": "stream",
     "text": [
      "{'name': 'Alice', 'Role': ' Manager'}\n"
     ]
    }
   ],
   "source": [
    "#3. Check Key Existence Given a dicƟonary: employee = {'name': 'Alice', 'role': 'Manager'}\n",
    "\n",
    "Employee = {\n",
    "    \"name\" : \"Alice\",\n",
    "    \"Role\" : \" Manager\"\n",
    "}\n",
    "print(Employee)"
   ]
  },
  {
   "cell_type": "code",
   "execution_count": 4,
   "id": "508a5b34",
   "metadata": {},
   "outputs": [
    {
     "name": "stdout",
     "output_type": "stream",
     "text": [
      "Subjectwise marks: {'Maths': 85, 'Science': 75, 'social': 69}\n"
     ]
    }
   ],
   "source": [
    "#4. Loop Through DicƟonary\n",
    "#Create a dicƟonary with at least 3 subject names as keys and marks as values.  Print all keys and their corresponding values using a loop.\n",
    "Subjects = {\n",
    "    \"Maths\" : 85,\n",
    "    \"Science\" : 75,\n",
    "    \"social\" : 69\n",
    "}\n",
    "print(\"Subjectwise marks:\",Subjects)"
   ]
  },
  {
   "cell_type": "code",
   "execution_count": 5,
   "id": "f6c787fb",
   "metadata": {},
   "outputs": [
    {
     "name": "stdout",
     "output_type": "stream",
     "text": [
      "dict_keys(['London', 'Tokyo', 'Berlin', 'Rome'])\n"
     ]
    }
   ],
   "source": [
    "#5. DicƟonary Length\n",
    "#Create a dicƟonary of 4 capital ciƟes of countries.  Print the total number of key-value pairs.\n",
    "Countries= {\n",
    "    \"London\" : \"United Kingdom\", \n",
    "    \"Tokyo\" : \"Japan\",\n",
    "    \"Berlin\" : \"Germany\",\n",
    "     \"Rome\" : \"Italy\" \n",
    "} \n",
    "print(Countries.keys())"
   ]
  },
  {
   "cell_type": "code",
   "execution_count": 6,
   "id": "c02e2b2e",
   "metadata": {},
   "outputs": [
    {
     "name": "stdout",
     "output_type": "stream",
     "text": [
      "{'apple': 2, 'banana': 5, 'cherry': 10}\n"
     ]
    }
   ],
   "source": [
    "#6. Remove an Item Create a dicƟonary: Remove 'banana' from the dicƟonary using a method.\n",
    "fruits = {'apple': 2, 'banana': 5, 'cherry': 10}\n",
    "\n",
    "fruits = {\n",
    "    \"apple\" : 2,\n",
    "    \"banana\" : 5,\n",
    "    \"cherry\" : 10\n",
    "}\n",
    "print(fruits)"
   ]
  },
  {
   "cell_type": "code",
   "execution_count": 13,
   "id": "3ceaef78",
   "metadata": {},
   "outputs": [
    {
     "name": "stdout",
     "output_type": "stream",
     "text": [
      "original_dictionary is : {'x': 1, 'y': 2}\n",
      "{'x': 1, 'y': 2}\n",
      "update dictionary: {'x': 1, 'y': 10}\n"
     ]
    }
   ],
   "source": [
    "#7. Copy DicƟonary Create a dicƟonary original = {'x': 1, 'y': 2}  Make a copy of it and store it in copy_dict.\n",
    "#Update copy_dict['y'] to 10 and show both dicƟonaries.\n",
    "\n",
    "original_dictionary = {\n",
    "    \"x\" : 1,\n",
    "    \"y\" : 2\n",
    "}\n",
    "print(\"original_dictionary is :\", original_dictionary)\n",
    "copy_dictionary = original_dictionary.copy()\n",
    "print(copy_dictionary)\n",
    "copy_dictionary.update({\"y\" : 10})\n",
    "print(\"update dictionary:\", copy_dictionary)\n",
    "\n",
    "\n"
   ]
  },
  {
   "cell_type": "code",
   "execution_count": 14,
   "id": "045a3e90",
   "metadata": {},
   "outputs": [
    {
     "name": "stdout",
     "output_type": "stream",
     "text": [
      "Not exist\n"
     ]
    }
   ],
   "source": [
    "# Check if the key 'salary' exists in the dicƟonary.\n",
    "\n",
    "if \"salary\" in original_dictionary:\n",
    "    print(\"yes it's exists in dictionary\")\n",
    "else:\n",
    "    print(\"Not exist\")"
   ]
  },
  {
   "cell_type": "code",
   "execution_count": null,
   "id": "eb874460",
   "metadata": {},
   "outputs": [
    {
     "name": "stdout",
     "output_type": "stream",
     "text": [
      "Science Mark: 85\n",
      "Science Mark: 85\n"
     ]
    }
   ],
   "source": [
    "#8. Nested DicƟonary\n",
    "#Create a nested dicƟonary like this:\n",
    "#student = { 'name': 'Sara','marks': {'math': 90,'science': 85}} Access and print the science mark.\n",
    "\n",
    "student = {\n",
    "    \"name\" : \"sara\",\n",
    "    \"marks\" : {\n",
    "        \"math\" : 90,\n",
    "        \"science\" : 85\n",
    "    }\n",
    "}\n",
    "print(\"Science Mark:\", student[\"marks\"][\"science\"])"
   ]
  },
  {
   "cell_type": "code",
   "execution_count": null,
   "id": "bda4b287",
   "metadata": {},
   "outputs": [
    {
     "name": "stdout",
     "output_type": "stream",
     "text": [
      "{'item': 'pizza', 'price': 250}\n",
      "Not Available\n"
     ]
    }
   ],
   "source": [
    "\n",
    "#9. Get with Default Create a dicƟonary: order = {'item': 'Pizza', 'price': 250}\n",
    "# Use the .get() method to access the value of the key 'quanƟty', with default value 'Not Available'.\n",
    "\n",
    "# Get with Default\n",
    "\n",
    "order = {\n",
    "    \"item\" : \"pizza\",\n",
    "    \"price\" : 250\n",
    "}\n",
    "print(order)\n",
    "\n",
    "print(order.get(\"quantity\", \"Not Available\")) # with default value\n",
    "\n",
    "\n"
   ]
  },
  {
   "cell_type": "code",
   "execution_count": 27,
   "id": "e9b4173c",
   "metadata": {},
   "outputs": [
    {
     "name": "stdout",
     "output_type": "stream",
     "text": [
      "Before clear: {'author': 'x', 'director': 'y', 'publisher': 'z'}\n",
      "After clear: {}\n"
     ]
    }
   ],
   "source": [
    "\n",
    "#10. Clear DicƟonary Create any dicƟonary with 3 items.\n",
    "# Use the .clear() method and print the dicƟonary before and aŌer clearing.\n",
    "\n",
    "\n",
    "dictionary = {\n",
    "    \"author\" : \"x\",\n",
    "    \"director\" :\"y\",\n",
    "    \"publisher\" : \"z\"\n",
    "}\n",
    "\n",
    "print(\"Before clear:\", dictionary)\n",
    "\n",
    "original_dictionary.clear()\n",
    "\n",
    "print(\"After clear:\", original_dictionary)\n"
   ]
  },
  {
   "cell_type": "code",
   "execution_count": 1,
   "id": "0ef9e026",
   "metadata": {},
   "outputs": [
    {
     "name": "stdout",
     "output_type": "stream",
     "text": [
      "{'Milage': 18, 'Brand': 'Hyundai', 'Colour': 'Black', 'Model': 'Verna', 'Year': '2020', 'SeatingCapacity': 5}\n"
     ]
    }
   ],
   "source": [
    "Car = {\n",
    "    \"Milage\":18,\n",
    "    \"Brand\":\"Hyundai\",\n",
    "    \"Colour\":\"Black\",\n",
    "    \"Model\":\"Verna\",\n",
    "    \"Year\": \"2020\",\n",
    "    \"SeatingCapacity\":5\n",
    "    }\n",
    "\n",
    "print(Car)"
   ]
  },
  {
   "cell_type": "code",
   "execution_count": null,
   "id": "ce9d446a",
   "metadata": {},
   "outputs": [
    {
     "name": "stdout",
     "output_type": "stream",
     "text": [
      "Hyundai\n",
      "Hyundai\n",
      "Hyundai\n"
     ]
    }
   ],
   "source": [
    "\n",
    "print(Car[\"Brand\"])\n",
    "\n",
    "\n",
    "print(Car.get(\"Brand\"))\n",
    "\n",
    "MyBrand = Car.get(\"Brand\")\n",
    "print(MyBrand)"
   ]
  },
  {
   "cell_type": "code",
   "execution_count": 7,
   "id": "8f1b43d3",
   "metadata": {},
   "outputs": [
    {
     "name": "stdout",
     "output_type": "stream",
     "text": [
      "dict_keys(['Milage', 'Brand', 'Colour', 'Model', 'Year', 'SeatingCapacity'])\n"
     ]
    }
   ],
   "source": [
    "# The keys() method will return a list of all the keys in the dictionary.\n",
    "\n",
    "print(Car.keys())\n",
    "\n"
   ]
  },
  {
   "cell_type": "code",
   "execution_count": 8,
   "id": "9b8ae9e3",
   "metadata": {},
   "outputs": [
    {
     "name": "stdout",
     "output_type": "stream",
     "text": [
      "dict_values([18, 'Hyundai', 'Black', 'Verna', '2020', 5])\n"
     ]
    }
   ],
   "source": [
    "# The values() method will return a list of all the values in the dictionary.\n",
    "\n",
    "print(Car.values())"
   ]
  },
  {
   "cell_type": "code",
   "execution_count": 13,
   "id": "99a5d081",
   "metadata": {},
   "outputs": [
    {
     "name": "stdout",
     "output_type": "stream",
     "text": [
      "Brand is existing\n",
      "Model is Existing\n"
     ]
    }
   ],
   "source": [
    "if \"Brand\" in Car:\n",
    "    print(\"Brand is existing\")\n",
    "else:\n",
    "    print(\"Brand does not exist\")\n",
    "\n",
    "\n",
    "if \"Model\" in Car:\n",
    "    print(\"Model is Existing\")\n",
    "else:\n",
    "    print(\"Model doe not exist\")\n",
    "\n"
   ]
  },
  {
   "cell_type": "code",
   "execution_count": null,
   "id": "5f3dfab6",
   "metadata": {},
   "outputs": [
    {
     "name": "stdout",
     "output_type": "stream",
     "text": [
      "{'MovieName': 'Bahubali', 'Director': 'Rajamouli', 'Hero1': 'Prabhas', 'Hero2': 'Rana', 'MusicDirector': 'Keeravani', 'Actress': 'Anushka'}\n"
     ]
    }
   ],
   "source": [
    "Movies = {\n",
    "    \"MovieName\":\"Bahubali\",\n",
    "    \"Director\":\"Rajamouli\",\n",
    "    \"Hero1\":\"Prabhas\",\n",
    "    \"Hero2\":\"Rana\",\n",
    "    \"MusicDirector\":\"Keeravani\"\n",
    "}\n",
    "\n",
    "Movies[\"Actress\"] = \"Anushka\"\n",
    "\n",
    "print(Movies)\n",
    "\n",
    "\n"
   ]
  },
  {
   "cell_type": "code",
   "execution_count": 16,
   "id": "9e75bbab",
   "metadata": {},
   "outputs": [
    {
     "name": "stdout",
     "output_type": "stream",
     "text": [
      "{'Moviename': 'Robo', 'Director1': 'Shankar', 'Hero': 'Rajini', 'Heroine': 'Aishwarya', 'villan': 'robo'}\n"
     ]
    }
   ],
   "source": [
    "MOvies1= {\n",
    "    \"Moviename\" : \"Robo\",\n",
    "    \"Director1\" : \"Shankar\",\n",
    "    \"Hero\" : \"Rajini\",\n",
    "    \"Heroine\" : \"Aishwarya\"\n",
    "}\n",
    "\n",
    "MOvies1[\"villan\"] = \"robo\"\n",
    "\n",
    "print(MOvies1)"
   ]
  },
  {
   "cell_type": "code",
   "execution_count": null,
   "id": "b1500043",
   "metadata": {},
   "outputs": [
    {
     "name": "stdout",
     "output_type": "stream",
     "text": [
      "{'Moviename': 'Robo', 'Director1': 'Shankar', 'Hero': 'Rajini', 'Heroine': 'Amejackson', 'villan': 'robo'}\n"
     ]
    }
   ],
   "source": [
    "# if the key is existing in the dictionary, then the value of the key \n",
    "# will be updated. If the key is not in the dictionary then a new Key value\n",
    "# pair will be created at the end of the dictionary.\n",
    "\n",
    "MOvies1[\"Heroine\"] = \"Amejackson\"\n",
    "\n",
    "print(MOvies1)\n"
   ]
  },
  {
   "cell_type": "code",
   "execution_count": null,
   "id": "a4e928bf",
   "metadata": {},
   "outputs": [],
   "source": [
    "Update Dictionary\n",
    "The update() method will update the dictionary with the items from a given argument. If the item does not exist, the item will be added."
   ]
  },
  {
   "cell_type": "code",
   "execution_count": 21,
   "id": "a80052eb",
   "metadata": {},
   "outputs": [
    {
     "name": "stdout",
     "output_type": "stream",
     "text": [
      "{'MovieName': 'Bahubali', 'Director': 'Rajamouli', 'Hero1': 'Prabhas', 'Hero2': 'Rana', 'MusicDirector': 'Keeravani', 'Actress': 'Anushka', 'villan': 'robo', 'Actress2': 'Anushka'}\n",
      "{'Moviename': 'Robo', 'Director1': 'Shankar', 'Hero': 'Roborajini', 'Heroine': 'Amejackson', 'villan': 'robo', 'hero': 'Roborajini'}\n"
     ]
    }
   ],
   "source": [
    "Movies.update({\"Actress2\":\"Anushka\"})\n",
    "print(Movies) \n",
    "\n",
    "MOvies1.update({\"Hero\": \"Roborajini\"})\n",
    "print(MOvies1)"
   ]
  },
  {
   "cell_type": "code",
   "execution_count": 22,
   "id": "5798da9e",
   "metadata": {},
   "outputs": [
    {
     "name": "stdout",
     "output_type": "stream",
     "text": [
      "{'MovieName': 'Bahubali', 'Director': 'Rajamouli', 'Hero1': 'Prabhas', 'Hero2': 'Rana', 'MusicDirector': 'Keeravani', 'Actress': 'Anushka', 'villan': 'robo'}\n",
      "{'Moviename': 'Robo', 'Director1': 'Shankar', 'Hero': 'Roborajini', 'Heroine': 'Amejackson', 'villan': 'robo'}\n"
     ]
    }
   ],
   "source": [
    "# The pop() method removes the item with the specified key name:\n",
    "\n",
    "Movies.pop(\"Actress2\")\n",
    "\n",
    "print(Movies)\n",
    "\n",
    "\n",
    "MOvies1.pop(\"hero\")\n",
    "\n",
    "\n",
    "print(MOvies1)"
   ]
  },
  {
   "cell_type": "code",
   "execution_count": 26,
   "id": "8d64f05e",
   "metadata": {},
   "outputs": [
    {
     "name": "stdout",
     "output_type": "stream",
     "text": [
      "{'MovieName': 'Bahubali', 'Director': 'Rajamouli', 'Hero1': 'Prabhas', 'Hero2': 'Rana', 'MusicDirector': 'Keeravani'}\n"
     ]
    }
   ],
   "source": [
    "# The popitem() method removes the last inserted item\n",
    "\n",
    "Movies.popitem()\n",
    "\n",
    "print(Movies)\n",
    "\n"
   ]
  },
  {
   "cell_type": "code",
   "execution_count": 25,
   "id": "0c5eb5c2",
   "metadata": {},
   "outputs": [
    {
     "name": "stdout",
     "output_type": "stream",
     "text": [
      "{'Moviename': 'Robo', 'Director1': 'Shankar'}\n"
     ]
    }
   ],
   "source": [
    "\n",
    "MOvies1.popitem()\n",
    "print(MOvies1)"
   ]
  },
  {
   "cell_type": "code",
   "execution_count": null,
   "id": "0102c24f",
   "metadata": {},
   "outputs": [],
   "source": [
    "# The del keyword removes the item with the specified key name:\n",
    "\n",
    "del Movies[\"Hero2\"]\n",
    "\n",
    "print(Movies)"
   ]
  },
  {
   "cell_type": "code",
   "execution_count": 24,
   "id": "680edee1",
   "metadata": {},
   "outputs": [
    {
     "name": "stdout",
     "output_type": "stream",
     "text": [
      "{'Moviename': 'Robo', 'Director1': 'Shankar', 'Hero': 'Roborajini'}\n"
     ]
    }
   ],
   "source": [
    "del MOvies1[\"Heroine\"]\n",
    "\n",
    "print(MOvies1)"
   ]
  },
  {
   "cell_type": "code",
   "execution_count": null,
   "id": "d5369232",
   "metadata": {},
   "outputs": [
    {
     "ename": "SyntaxError",
     "evalue": "cannot delete function call (1488782231.py, line 3)",
     "output_type": "error",
     "traceback": [
      "  \u001b[36mCell\u001b[39m\u001b[36m \u001b[39m\u001b[32mIn[28]\u001b[39m\u001b[32m, line 3\u001b[39m\n\u001b[31m    \u001b[39m\u001b[31mdel Movies()\u001b[39m\n        ^\n\u001b[31mSyntaxError\u001b[39m\u001b[31m:\u001b[39m cannot delete function call\n"
     ]
    }
   ],
   "source": [
    "# The del keyword can also delete the dictionary completely:\n",
    "\n",
    "del Movies\n",
    "\n",
    "print(Movies)"
   ]
  },
  {
   "cell_type": "code",
   "execution_count": null,
   "id": "4072ad5b",
   "metadata": {},
   "outputs": [],
   "source": [
    "Clear method will delete all the key value pairs in the dictionary"
   ]
  },
  {
   "cell_type": "code",
   "execution_count": 30,
   "id": "6fc32e7b",
   "metadata": {},
   "outputs": [
    {
     "name": "stdout",
     "output_type": "stream",
     "text": [
      "This key is CustID and its value is 1\n",
      "This key is CustName and its value is Venkat\n",
      "This key is CustLocation and its value is Balanagar\n",
      "This key is CustomerPin and its value is 500047\n"
     ]
    }
   ],
   "source": [
    "Customers = {\n",
    "    \"CustID\":1,\n",
    "    \"CustName\":\"Venkat\",\n",
    "    \"CustLocation\":\"Balanagar\",\n",
    "    \"CustomerPin\":\"500047\"\n",
    "}\n",
    "\n",
    "for mykey in Customers.keys():\n",
    "    print(f\"This key is {mykey} and its value is {Customers[mykey]}\")"
   ]
  },
  {
   "cell_type": "code",
   "execution_count": 32,
   "id": "3f5116e1",
   "metadata": {},
   "outputs": [
    {
     "name": "stdout",
     "output_type": "stream",
     "text": [
      " This values is 1\n",
      " This values is Venkat\n",
      " This values is Balanagar\n",
      " This values is 500047\n"
     ]
    }
   ],
   "source": [
    "for myvalue in Customers.values():\n",
    "    print(f\" This values is {myvalue}\")"
   ]
  },
  {
   "cell_type": "code",
   "execution_count": 37,
   "id": "ac7f764f",
   "metadata": {},
   "outputs": [
    {
     "name": "stdout",
     "output_type": "stream",
     "text": [
      "{'CustID': 1, 'CustName': 'Venkat', 'CustLocation': 'Balanagar', 'CustomerPin': '500047'}\n",
      "{'CustID': 1, 'CustName': 'Venkat', 'CustLocation': 'Balanagar', 'CustomerPin': '500047', 'Age': '40'}\n"
     ]
    }
   ],
   "source": [
    "Customers_Bkp = Customers.copy()\n",
    "\n",
    "print(Customers_Bkp)\n",
    "Customers_Bkp[\"Age\"]=\"40\"\n",
    "\n",
    "print(Customers_Bkp)\n",
    "\n"
   ]
  },
  {
   "cell_type": "code",
   "execution_count": 34,
   "id": "8b3dbfe5",
   "metadata": {},
   "outputs": [
    {
     "name": "stdout",
     "output_type": "stream",
     "text": [
      "{'firstname': 'naga', 'lastname': 'durga'}\n"
     ]
    }
   ],
   "source": [
    "Person = {\n",
    "    \"firstname\" : \"naga\",\n",
    "    \"lastname\" : \"durga\"\n",
    "}\n",
    "\n",
    "print(Person)"
   ]
  },
  {
   "cell_type": "code",
   "execution_count": 40,
   "id": "a913e10d",
   "metadata": {},
   "outputs": [
    {
     "name": "stdout",
     "output_type": "stream",
     "text": [
      "{'firstname': 'naga', 'lastname': 'durga'}\n",
      "{'firstname': 'naga', 'lastname': 'durga', 'age': '30'}\n"
     ]
    }
   ],
   "source": [
    "\n",
    "Person_BKP = Person.copy()\n",
    "print(Person_BKP)\n",
    "\n",
    "\n",
    "Person_BKP[\"age\"]=\"30\"\n",
    "print(Person_BKP)"
   ]
  },
  {
   "cell_type": "code",
   "execution_count": 41,
   "id": "c2506d0f",
   "metadata": {},
   "outputs": [],
   "source": [
    "Movies = {\n",
    "    \"Bahubali\": {\n",
    "        \"Hero\":\"Prabhas\",\n",
    "        \"Director\":\"Rajamouli\",\n",
    "        \"MusicDirector\":\"Keeravani\",\n",
    "        \"Actress\":\"Anushka\"\n",
    "    },\n",
    "    \"Pushpa\":{\n",
    "        \"Hero\":\"Allu Arjun\",\n",
    "        \"Director\":\"Sukumar\",\n",
    "        \"MusicDirector\":\"Devisri\",\n",
    "        \"Actress\":\"Rashmika\"\n",
    "    },\n",
    "    \"MissionImpossible\":{\n",
    "        \"Hero\":\"Tom Cruise\",\n",
    "        \"Director\":\"Jon Whoo\",\n",
    "        \"MusicDirector\":\"Someone\",\n",
    "        \"Actress\":\"Anjelina\"\n",
    "    }\n",
    "}"
   ]
  },
  {
   "cell_type": "code",
   "execution_count": 42,
   "id": "c878ff3b",
   "metadata": {},
   "outputs": [
    {
     "name": "stdout",
     "output_type": "stream",
     "text": [
      "Devisri\n"
     ]
    }
   ],
   "source": [
    "print(Movies[\"Pushpa\"][\"MusicDirector\"])"
   ]
  },
  {
   "cell_type": "code",
   "execution_count": 45,
   "id": "655554c1",
   "metadata": {},
   "outputs": [
    {
     "name": "stdout",
     "output_type": "stream",
     "text": [
      "The movie name is Bahubali. Its Music director is Keeravani\n",
      "The movie name is Pushpa. Its Music director is Devisri\n",
      "The movie name is MissionImpossible. Its Music director is Someone\n"
     ]
    }
   ],
   "source": [
    "for mymovie in Movies.keys():\n",
    "    print(f\"The movie name is {mymovie}. Its Music director is {Movies[mymovie][\"MusicDirector\"]}\") "
   ]
  }
 ],
 "metadata": {
  "kernelspec": {
   "display_name": ".venv",
   "language": "python",
   "name": "python3"
  },
  "language_info": {
   "codemirror_mode": {
    "name": "ipython",
    "version": 3
   },
   "file_extension": ".py",
   "mimetype": "text/x-python",
   "name": "python",
   "nbconvert_exporter": "python",
   "pygments_lexer": "ipython3",
   "version": "3.13.3"
  }
 },
 "nbformat": 4,
 "nbformat_minor": 5
}
