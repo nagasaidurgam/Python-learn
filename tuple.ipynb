{
 "cells": [
  {
   "cell_type": "code",
   "execution_count": null,
   "id": "6545d8fc",
   "metadata": {},
   "outputs": [],
   "source": [
    "Tuple\n",
    "Tuples are used to store multiple items in a single variable.\n",
    "\n",
    "A tuple is a collection which is ordered and unchangeable.\n",
    "\n",
    "Tuples are written with round brackets."
   ]
  },
  {
   "cell_type": "code",
   "execution_count": null,
   "id": "649a2a92",
   "metadata": {},
   "outputs": [],
   "source": [
    "\"\"\"\n",
    "Tuple Items\n",
    "Tuple items are ordered, unchangeable, and allow duplicate values.\n",
    "\n",
    "Tuple items are indexed, the first item has index [0], the second item has index [1] etc.\n",
    "\n",
    "Ordered\n",
    "When we say that tuples are ordered, it means that the items have a defined order, and that order will not change.\n",
    "\n",
    "Unchangeable\n",
    "Tuples are unchangeable, meaning that we cannot change, add or remove items after the tuple has been created.\n",
    "\n",
    "Allow Duplicates\n",
    "Since tuples are indexed, they can have items with the same value:\n",
    "\"\"\""
   ]
  },
  {
   "cell_type": "code",
   "execution_count": 2,
   "id": "8939b4f7",
   "metadata": {},
   "outputs": [
    {
     "name": "stdout",
     "output_type": "stream",
     "text": [
      "['apple', 'Banana', 'grapes']\n",
      "['apple', 'Banana', 'grapes', 'KiWi']\n"
     ]
    }
   ],
   "source": [
    "myfruittuple = (\"apple\", \"Banana\", \"grapes\")\n",
    "mylist = list(myfruittuple)  #convert tuple to list\n",
    "print(mylist) \n",
    "mylist.append(\"KiWi\")\n",
    "print(mylist)"
   ]
  },
  {
   "cell_type": "code",
   "execution_count": 3,
   "id": "640e1358",
   "metadata": {},
   "outputs": [
    {
     "name": "stdout",
     "output_type": "stream",
     "text": [
      "('red', 'green', 'blue')\n"
     ]
    }
   ],
   "source": [
    "#✅ Tuples (Ordered, Immutable)\n",
    "# 1. Creating a tuple\n",
    "colors = ('red', 'green', 'blue')\n",
    "print(colors)"
   ]
  },
  {
   "cell_type": "code",
   "execution_count": 4,
   "id": "8a8b451e",
   "metadata": {},
   "outputs": [
    {
     "name": "stdout",
     "output_type": "stream",
     "text": [
      "red\n"
     ]
    }
   ],
   "source": [
    "# 2. Accessing elements\n",
    "print(colors[0])"
   ]
  },
  {
   "cell_type": "code",
   "execution_count": 7,
   "id": "ac7be8cd",
   "metadata": {},
   "outputs": [
    {
     "name": "stdout",
     "output_type": "stream",
     "text": [
      "3\n"
     ]
    }
   ],
   "source": [
    "# 3. Nested tuples\n",
    "nested = (1, (2, 3), 4)\n",
    "print(nested[1][1])"
   ]
  },
  {
   "cell_type": "code",
   "execution_count": 6,
   "id": "463b6f0e",
   "metadata": {},
   "outputs": [
    {
     "name": "stdout",
     "output_type": "stream",
     "text": [
      "red green blue\n"
     ]
    }
   ],
   "source": [
    "# 4. Tuple unpacking\n",
    "a, b, c = colors\n",
    "print(a, b, c)"
   ]
  },
  {
   "cell_type": "code",
   "execution_count": 7,
   "id": "5ec95671",
   "metadata": {},
   "outputs": [
    {
     "name": "stdout",
     "output_type": "stream",
     "text": [
      "red\n",
      "green\n",
      "blue\n"
     ]
    }
   ],
   "source": [
    "\n",
    "# 5. Iterating a tuple\n",
    "for color in colors:\n",
    "    print(color)"
   ]
  },
  {
   "cell_type": "code",
   "execution_count": 1,
   "id": "ec850178",
   "metadata": {},
   "outputs": [
    {
     "name": "stdout",
     "output_type": "stream",
     "text": [
      "Alice 25\n"
     ]
    }
   ],
   "source": [
    "# 6. Using tuple with functions\n",
    "\n",
    "def get_info():\n",
    "    return (\"Alice\", 25)\n",
    "name, age = get_info()\n",
    "print(name, age)"
   ]
  },
  {
   "cell_type": "code",
   "execution_count": 8,
   "id": "8a751e4e",
   "metadata": {},
   "outputs": [
    {
     "name": "stdout",
     "output_type": "stream",
     "text": [
      "3\n"
     ]
    }
   ],
   "source": [
    "# 7. Length of a tuple\n",
    "print(len(colors))"
   ]
  },
  {
   "cell_type": "code",
   "execution_count": 9,
   "id": "4ffc68e3",
   "metadata": {},
   "outputs": [
    {
     "name": "stdout",
     "output_type": "stream",
     "text": [
      "True\n"
     ]
    }
   ],
   "source": [
    "\n",
    "# 8. Checking membership\n",
    "\n",
    "print('red' in colors)"
   ]
  },
  {
   "cell_type": "code",
   "execution_count": 9,
   "id": "34ea09d6",
   "metadata": {},
   "outputs": [
    {
     "name": "stdout",
     "output_type": "stream",
     "text": [
      "<class 'str'>\n"
     ]
    }
   ],
   "source": [
    "\n",
    "# 9. Single element tuple\n",
    "single = ('only')\n",
    "print(type(single))"
   ]
  },
  {
   "cell_type": "code",
   "execution_count": null,
   "id": "cff3d091",
   "metadata": {},
   "outputs": [
    {
     "ename": "NameError",
     "evalue": "name 'colors' is not defined",
     "output_type": "error",
     "traceback": [
      "\u001b[31m---------------------------------------------------------------------------\u001b[39m",
      "\u001b[31mNameError\u001b[39m                                 Traceback (most recent call last)",
      "\u001b[36mCell\u001b[39m\u001b[36m \u001b[39m\u001b[32mIn[12]\u001b[39m\u001b[32m, line 3\u001b[39m\n\u001b[32m      1\u001b[39m \u001b[38;5;66;03m# 10. Tuple concatenation\u001b[39;00m\n\u001b[32m----> \u001b[39m\u001b[32m3\u001b[39m new_tuple = \u001b[43mcolors\u001b[49m + (\u001b[33m'\u001b[39m\u001b[33myellow\u001b[39m\u001b[33m'\u001b[39m)\n\u001b[32m      4\u001b[39m \u001b[38;5;28mprint\u001b[39m(colors)\n",
      "\u001b[31mNameError\u001b[39m: name 'colors' is not defined"
     ]
    }
   ],
   "source": [
    "\n",
    "# 10. Tuple concatenation\n",
    "\n",
    "new_tuple = colors + ('yellow')\n"
   ]
  },
  {
   "cell_type": "code",
   "execution_count": null,
   "id": "23e8aa20",
   "metadata": {},
   "outputs": [],
   "source": [
    "#Tuples – 10 Homework Problems\n",
    "#1. Create a tuple of 4 fruits and print the first and last fruits.\n",
    "myfruits = (\"apple\", \"banana\", \"custard\", \"dragon\")\n",
    "print(myfruits[0], myfruits[3])"
   ]
  },
  {
   "cell_type": "code",
   "execution_count": 12,
   "id": "1a118f4f",
   "metadata": {},
   "outputs": [
    {
     "name": "stdout",
     "output_type": "stream",
     "text": [
      "True\n"
     ]
    }
   ],
   "source": [
    "#2. Check whether \"apple\" is in the tuple.\n",
    "\n",
    "\n",
    "print(\"apple\" in mylist)"
   ]
  },
  {
   "cell_type": "code",
   "execution_count": 13,
   "id": "edf750f9",
   "metadata": {},
   "outputs": [
    {
     "name": "stdout",
     "output_type": "stream",
     "text": [
      "<class 'str'>\n"
     ]
    }
   ],
   "source": [
    "#3. Create a single-element tuple with value \"hello\" and print its type.\n",
    "single_element = \"hello\"\n",
    "print(type(single_element))"
   ]
  },
  {
   "cell_type": "code",
   "execution_count": 15,
   "id": "20f4b661",
   "metadata": {},
   "outputs": [
    {
     "name": "stdout",
     "output_type": "stream",
     "text": [
      "100 200 300\n"
     ]
    }
   ],
   "source": [
    "#5. Unpack a tuple of (100, 200, 300) into three variables and print them.\n",
    "X, Y, Z = (100, 200,300)\n",
    "print(X, Y, Z)"
   ]
  },
  {
   "cell_type": "code",
   "execution_count": 16,
   "id": "4f505b89",
   "metadata": {},
   "outputs": [
    {
     "name": "stdout",
     "output_type": "stream",
     "text": [
      "('apple', 'banana', 'coconut', 'Dragon')\n"
     ]
    }
   ],
   "source": [
    "\n",
    "#9. Create two tuples and concatenate them.\n",
    "A = (\"apple\", \"banana\")\n",
    "B = (\"coconut\", \"Dragon\")\n",
    "xconcatenate = A + B\n",
    "print(xconcatenate)"
   ]
  },
  {
   "cell_type": "code",
   "execution_count": 18,
   "id": "189a9427",
   "metadata": {},
   "outputs": [
    {
     "name": "stdout",
     "output_type": "stream",
     "text": [
      "5\n"
     ]
    }
   ],
   "source": [
    "\n",
    "#4. Find the length of a tuple that stores 5 items.\n",
    "\n",
    "numbers = (22,35,62,25,96)\n",
    "print(len(numbers))"
   ]
  },
  {
   "cell_type": "code",
   "execution_count": 13,
   "id": "57b176c6",
   "metadata": {},
   "outputs": [
    {
     "name": "stdout",
     "output_type": "stream",
     "text": [
      "('Durga', 26)\n"
     ]
    }
   ],
   "source": [
    "#6. Create a tuple with your name and age, and print both.\n",
    "\n",
    "personalinfo = (\"Durga\", 26)\n",
    "print(personalinfo)"
   ]
  },
  {
   "cell_type": "code",
   "execution_count": 24,
   "id": "b5fe3104",
   "metadata": {},
   "outputs": [
    {
     "ename": "TypeError",
     "evalue": "'tuple' object does not support item assignment",
     "output_type": "error",
     "traceback": [
      "\u001b[31m---------------------------------------------------------------------------\u001b[39m",
      "\u001b[31mTypeError\u001b[39m                                 Traceback (most recent call last)",
      "\u001b[36mCell\u001b[39m\u001b[36m \u001b[39m\u001b[32mIn[24]\u001b[39m\u001b[32m, line 5\u001b[39m\n\u001b[32m      1\u001b[39m \u001b[38;5;66;03m#7. Try modifying an element in a tuple and observe the result.\u001b[39;00m\n\u001b[32m      4\u001b[39m num = (\u001b[32m1\u001b[39m, \u001b[32m2\u001b[39m, \u001b[32m2\u001b[39m, \u001b[32m4\u001b[39m)\n\u001b[32m----> \u001b[39m\u001b[32m5\u001b[39m \u001b[43mnum\u001b[49m\u001b[43m[\u001b[49m\u001b[32;43m2\u001b[39;49m\u001b[43m]\u001b[49m = \u001b[32m3\u001b[39m\n\u001b[32m      6\u001b[39m \u001b[38;5;28mprint\u001b[39m(num)\n",
      "\u001b[31mTypeError\u001b[39m: 'tuple' object does not support item assignment"
     ]
    }
   ],
   "source": [
    "\n",
    "#7. Try modifying an element in a tuple and observe the result.\n",
    "\n",
    "\n",
    "num = (1, 2, 2, 4)\n",
    "num[2] = 3\n",
    "print(num)\n",
    "\n"
   ]
  },
  {
   "cell_type": "code",
   "execution_count": null,
   "id": "2b7d949e",
   "metadata": {},
   "outputs": [],
   "source": []
  },
  {
   "cell_type": "code",
   "execution_count": 14,
   "id": "92ab53c4",
   "metadata": {},
   "outputs": [
    {
     "name": "stdout",
     "output_type": "stream",
     "text": [
      "(1, 2, 3)\n",
      "list[4, 5, 6]\n"
     ]
    }
   ],
   "source": [
    "#8. Convert a list ['a', 'b', 'c'] to a tuple and print it.\n",
    "\n",
    "\n",
    "mylist = [1, 2, 3]\n",
    "mytuple = tuple(mylist)\n",
    "print(mytuple)\n",
    "mytuple = (4, 5, 6)\n",
    "mylist = list[mytuple]\n",
    "print(mylist)"
   ]
  },
  {
   "cell_type": "code",
   "execution_count": 17,
   "id": "c9870740",
   "metadata": {},
   "outputs": [
    {
     "name": "stdout",
     "output_type": "stream",
     "text": [
      "(22, 34, 45)\n",
      "list[85, 65, 96]\n"
     ]
    }
   ],
   "source": [
    "mylist1 = [22, 34, 45]\n",
    "mytuple1 = tuple(mylist1)   # list to tuple convert\n",
    "print(mytuple1)\n",
    "\n",
    "\n",
    "mytuple2 =  (85, 65, 96)\n",
    "mylist2 = list[mytuple2]\n",
    "print(mylist2)\n"
   ]
  },
  {
   "cell_type": "code",
   "execution_count": 27,
   "id": "ef56be27",
   "metadata": {},
   "outputs": [
    {
     "name": "stdout",
     "output_type": "stream",
     "text": [
      "red\n",
      "green\n",
      "blue\n"
     ]
    }
   ],
   "source": [
    "#10.Use a for loop to print all elements in a tuple.\n",
    "\n",
    "\n",
    "for color in colors:\n",
    "    print(color)\n"
   ]
  },
  {
   "cell_type": "code",
   "execution_count": 18,
   "id": "e3528737",
   "metadata": {},
   "outputs": [
    {
     "name": "stdout",
     "output_type": "stream",
     "text": [
      "('Maruti', 'kia', 'Honda', 'Benz')\n"
     ]
    }
   ],
   "source": [
    "Cars = (\"Maruti\",\"kia\",\"Honda\",\"Benz\")\n",
    "print(Cars)"
   ]
  },
  {
   "cell_type": "code",
   "execution_count": 19,
   "id": "fefc5150",
   "metadata": {},
   "outputs": [
    {
     "name": "stdout",
     "output_type": "stream",
     "text": [
      "['Maruti', 'kia', 'Honda', 'Benz']\n",
      "['Maruti', 'kia', 'Honda', 'Benz', 'Bently']\n"
     ]
    }
   ],
   "source": [
    "List_Cars = list(Cars)\n",
    "print(List_Cars)\n",
    "\n",
    "List_Cars.append(\"Bently\")\n",
    "print(List_Cars)"
   ]
  },
  {
   "cell_type": "code",
   "execution_count": 20,
   "id": "1f4efa0c",
   "metadata": {},
   "outputs": [
    {
     "name": "stdout",
     "output_type": "stream",
     "text": [
      "('Maruti', 'kia', 'Honda', 'Benz', 'Bently')\n"
     ]
    }
   ],
   "source": [
    "Cars = tuple(List_Cars) \n",
    "\n",
    "print(Cars)"
   ]
  },
  {
   "cell_type": "code",
   "execution_count": 24,
   "id": "985e6abb",
   "metadata": {},
   "outputs": [
    {
     "name": "stdout",
     "output_type": "stream",
     "text": [
      "Maruti\n",
      "kia\n",
      "Honda\n",
      "Benz\n",
      "Bently\n"
     ]
    }
   ],
   "source": [
    "for car  in Cars:\n",
    "    print(car)"
   ]
  },
  {
   "cell_type": "code",
   "execution_count": null,
   "id": "1b8f7e0a",
   "metadata": {},
   "outputs": [],
   "source": [
    "Set\n",
    "Sets are used to store multiple items in a single variable.\n",
    "\n",
    "Set is one of 4 built-in data types in Python used to store collections of data, the other 3 are List, Tuple, and Dictionary, all with different qualities and usage.\n",
    "\n",
    "A set is a collection which is unordered, unchangeable*, and unindexed.\n",
    "\n",
    "Set items are unordered, unchangeable, and do not allow duplicate values.\n",
    "\n",
    "Unordered\n",
    "Unordered means that the items in a set do not have a defined order.\n",
    "\n",
    "Set items can appear in a different order every time you use them, and cannot be referred to by index or key.\n",
    "\n",
    "Unchangeable\n",
    "Set items are unchangeable, meaning that we cannot change the items after the set has been created.\n",
    "\n",
    "Once a set is created, you cannot change its items, but you can remove items and add new items.\n",
    "\n",
    "Duplicates Not Allowed\n",
    "Sets cannot have two items with the same value."
   ]
  }
 ],
 "metadata": {
  "kernelspec": {
   "display_name": ".venv",
   "language": "python",
   "name": "python3"
  },
  "language_info": {
   "codemirror_mode": {
    "name": "ipython",
    "version": 3
   },
   "file_extension": ".py",
   "mimetype": "text/x-python",
   "name": "python",
   "nbconvert_exporter": "python",
   "pygments_lexer": "ipython3",
   "version": "3.13.3"
  }
 },
 "nbformat": 4,
 "nbformat_minor": 5
}
