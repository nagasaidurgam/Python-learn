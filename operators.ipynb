{
 "cells": [
  {
   "cell_type": "code",
   "execution_count": null,
   "id": "ebcaaca6",
   "metadata": {},
   "outputs": [],
   "source": [
    "Python Operators\n",
    "Operators are used to perform operations on variables and values.\n",
    "\n",
    "Python divides the operators in the following groups:\n",
    "\n",
    "Arithmetic operators\n",
    "Assignment operators\n",
    "Comparison operators\n",
    "Logical operators\n",
    "Identity operators\n",
    "Membership operators\n",
    "\n",
    "Python Arithmetic Operators :\n",
    "Arithmetic operators are used with numeric values to perform common mathematical operations\n",
    "\n",
    "Operator\tName\t        Example\t\n",
    "+\t        Addition\t    x + y\t\n",
    "-\t        Subtraction\t    x - y\t\n",
    "*\t        Multiplication\tx * y\t\n",
    "/\t        Division\t    x / y\t\n",
    "%\t        Modulus\t        x % y\t\n",
    "**\t        Exponentiation\tx ** y\t\n",
    "//\t        Floor division\tx // y"
   ]
  },
  {
   "cell_type": "code",
   "execution_count": 3,
   "id": "4c71a41f",
   "metadata": {},
   "outputs": [
    {
     "name": "stdout",
     "output_type": "stream",
     "text": [
      "15\n",
      "40\n",
      "150\n",
      "20\n",
      "50\n",
      "400\n"
     ]
    }
   ],
   "source": [
    "Saleprice = 40\n",
    "Costprice = 25\n",
    "Profit = Saleprice - Costprice\n",
    "print(Profit)\n",
    "\n",
    "Saleprice = Costprice + Profit\n",
    "print(Saleprice)\n",
    "\n",
    "Qty = 10\n",
    "print(Profit*Qty)\n",
    "\n",
    "\n"
   ]
  },
  {
   "cell_type": "code",
   "execution_count": 4,
   "id": "5be4644e",
   "metadata": {},
   "outputs": [
    {
     "name": "stdout",
     "output_type": "stream",
     "text": [
      "20\n",
      "50\n",
      "400\n"
     ]
    }
   ],
   "source": [
    "Saleprice = 50\n",
    "Costprice = 30\n",
    "profit = Saleprice - Costprice\n",
    "print(profit)\n",
    "\n",
    "saleprice = Costprice + profit\n",
    "print(saleprice)\n",
    "\n",
    "Qty = 20\n",
    "print(profit*Qty)"
   ]
  },
  {
   "cell_type": "code",
   "execution_count": null,
   "id": "a819973b",
   "metadata": {},
   "outputs": [],
   "source": [
    "# I = PTR/100\n",
    "\n",
    "myPrinciple = 1000\n",
    "myTime = 24\n",
    "myROI = 3\n",
    "\n",
    "myInterest = myPrinciple*myTime*myROI/100\n",
    "print(myInterest)"
   ]
  },
  {
   "cell_type": "code",
   "execution_count": 5,
   "id": "02d38645",
   "metadata": {},
   "outputs": [
    {
     "name": "stdout",
     "output_type": "stream",
     "text": [
      "34000.0\n"
     ]
    }
   ],
   "source": [
    "aprincipe = 10000\n",
    "atime = 34\n",
    "aroi = 10\n",
    "\n",
    "ainterest = aprincipe*atime*aroi/100\n",
    "print(ainterest)"
   ]
  },
  {
   "cell_type": "code",
   "execution_count": 7,
   "id": "bedca82a",
   "metadata": {},
   "outputs": [
    {
     "name": "stdout",
     "output_type": "stream",
     "text": [
      "1\n",
      "0\n",
      "256\n"
     ]
    }
   ],
   "source": [
    "# % Modulus gives the reminder when two values are divided\n",
    "\n",
    "print(5%2)\n",
    "print(4%2)\n",
    "print(25638%259)"
   ]
  },
  {
   "cell_type": "code",
   "execution_count": 8,
   "id": "83f27344",
   "metadata": {},
   "outputs": [
    {
     "name": "stdout",
     "output_type": "stream",
     "text": [
      "65536\n"
     ]
    }
   ],
   "source": [
    "print(256**2)"
   ]
  },
  {
   "cell_type": "code",
   "execution_count": 9,
   "id": "4a9bb4f3",
   "metadata": {},
   "outputs": [
    {
     "name": "stdout",
     "output_type": "stream",
     "text": [
      "25\n",
      "14.285714285714286\n",
      "14\n"
     ]
    }
   ],
   "source": [
    "print(100//4)\n",
    "print(100/7)\n",
    "\n",
    "# floor will round off the result to the nearest whole number.\n",
    "print(100//7)"
   ]
  },
  {
   "cell_type": "code",
   "execution_count": 10,
   "id": "03d9682f",
   "metadata": {},
   "outputs": [
    {
     "ename": "SyntaxError",
     "evalue": "invalid syntax (2300104410.py, line 1)",
     "output_type": "error",
     "traceback": [
      "  \u001b[36mCell\u001b[39m\u001b[36m \u001b[39m\u001b[32mIn[10]\u001b[39m\u001b[32m, line 1\u001b[39m\n\u001b[31m    \u001b[39m\u001b[31mPython Assignment Operators\u001b[39m\n           ^\n\u001b[31mSyntaxError\u001b[39m\u001b[31m:\u001b[39m invalid syntax\n"
     ]
    }
   ],
   "source": [
    "Python Assignment Operators\n",
    "Assignment operators are used to assign values to variables:\n",
    "\n",
    "Operator\tExample\t    Same As\t\n",
    "=\t        a = 5\t    a = 5\t\n",
    "+=\t        a += 10\ta = a + 10\t\n",
    "-=\t        a -= 10\ta = a - 10\t\n",
    "*=\t        a *= 10\ta = a * 10\t\n",
    "/=\t        a /= 10\ta = a / 10\t\n",
    "%=\t        a %= 10\ta = a % 10\t\n",
    "//=\t        a //= 10\ta = a // 10\t\n",
    "**=\t        a **= 10\ta = a ** 10\t\n",
    "\n",
    "\n",
    "Python Comparison Operators\n",
    "Comparison operators are used to compare two values:\n",
    "\n",
    "Operator\tName\t                    Example\t\n",
    "==\t        Equal\t                    x == y\t\n",
    "!=\t        Not equal\t                x != y\t\n",
    ">\t        Greater than\t            x > y\t\n",
    "<\t        Less than\t                x < y\t\n",
    ">=\t        Greater than or equal to\tx >= y\t\n",
    "<=\t        Less than or equal to\t    x <= y"
   ]
  },
  {
   "cell_type": "code",
   "execution_count": null,
   "id": "aa3b1ff2",
   "metadata": {},
   "outputs": [],
   "source": [
    "Name1 = \"Ashok\"\n",
    "Name2 = \"ashok\"\n",
    "\n",
    "print(Name1==Name2)\n",
    "print(Name1!=Name2)\n",
    "\n",
    "print(5>2)"
   ]
  },
  {
   "cell_type": "code",
   "execution_count": 13,
   "id": "b292f8d5",
   "metadata": {},
   "outputs": [
    {
     "name": "stdout",
     "output_type": "stream",
     "text": [
      "False\n",
      "True\n",
      "False\n"
     ]
    }
   ],
   "source": [
    "Name1 = \"naga\"\n",
    "Name2 = \"shannu\"\n",
    "\n",
    "print(Name1== Name2)\n",
    "print(Name1!=Name2)\n",
    "      \n",
    "print(6<2)"
   ]
  },
  {
   "cell_type": "code",
   "execution_count": null,
   "id": "b1e63616",
   "metadata": {},
   "outputs": [],
   "source": [
    "Python Logical Operators\n",
    "Logical operators are used to combine conditional statements:\n",
    "\n",
    "Operator\tDescription\t\n",
    "and \t\tReturns True if both statements are true\t\n",
    "or\t\tReturns True if one of the statements is true\t\n",
    "not\t\tReverse the result, returns False if the result is true\t"
   ]
  },
  {
   "cell_type": "code",
   "execution_count": 14,
   "id": "65089e85",
   "metadata": {},
   "outputs": [
    {
     "name": "stdout",
     "output_type": "stream",
     "text": [
      "False\n",
      "False\n",
      "True\n",
      "False\n"
     ]
    }
   ],
   "source": [
    "Name1 = \"Venkat\"\n",
    "Name2 = \"Venkat1\"\n",
    "\n",
    "print(Name1==Name2 and 5<2)\n",
    "print(Name1==Name2 or 5<2)\n",
    "print(Name1==Name2 or 5>2)\n",
    "print(not(Name1==Name2 or 5>2))"
   ]
  },
  {
   "cell_type": "code",
   "execution_count": 16,
   "id": "af401a15",
   "metadata": {},
   "outputs": [
    {
     "name": "stdout",
     "output_type": "stream",
     "text": [
      "False\n",
      "True\n",
      "True\n"
     ]
    }
   ],
   "source": [
    "Name1 = \"sai\"\n",
    "Name2 = \"kiran\"\n",
    "\n",
    "print(Name1==Name2 and 5<2)\n",
    "print(Name1==Name2 or 2==2)\n",
    "print(not(Name1==Name2 or 5<2))"
   ]
  },
  {
   "cell_type": "code",
   "execution_count": null,
   "id": "407ba5d3",
   "metadata": {},
   "outputs": [],
   "source": [
    "Python Identity Operators\n",
    "Identity operators are used to compare the objects, not if they are equal, but if they are actually the same object, with the same memory location:\n",
    "\n",
    "Operators \n",
    "is          Returns true when both variables are same\n",
    "is not      Returns true when both variables are not same"
   ]
  },
  {
   "cell_type": "code",
   "execution_count": 17,
   "id": "de24fa44",
   "metadata": {},
   "outputs": [
    {
     "name": "stdout",
     "output_type": "stream",
     "text": [
      "False\n",
      "False\n",
      "True\n",
      "True\n"
     ]
    }
   ],
   "source": [
    "print(Name1 is Name2)\n",
    "print(Name1==Name2)\n",
    "\n",
    "print(Name1 is not Name2)\n",
    "print(Name1 != Name2)"
   ]
  },
  {
   "cell_type": "code",
   "execution_count": 19,
   "id": "76b2ed0d",
   "metadata": {},
   "outputs": [
    {
     "data": {
      "text/plain": [
       "int"
      ]
     },
     "execution_count": 19,
     "metadata": {},
     "output_type": "execute_result"
    }
   ],
   "source": [
    "a = 4\n",
    "b = 3.14\n",
    "c = \"Durga\"\n",
    "type(a)"
   ]
  },
  {
   "cell_type": "code",
   "execution_count": 2,
   "id": "528a51c7",
   "metadata": {},
   "outputs": [
    {
     "data": {
      "text/plain": [
       "float"
      ]
     },
     "execution_count": 2,
     "metadata": {},
     "output_type": "execute_result"
    }
   ],
   "source": [
    "type(b)"
   ]
  },
  {
   "cell_type": "code",
   "execution_count": 20,
   "id": "1c880b18",
   "metadata": {},
   "outputs": [
    {
     "data": {
      "text/plain": [
       "str"
      ]
     },
     "execution_count": 20,
     "metadata": {},
     "output_type": "execute_result"
    }
   ],
   "source": [
    "type(c)"
   ]
  },
  {
   "cell_type": "code",
   "execution_count": 4,
   "id": "1d757125",
   "metadata": {},
   "outputs": [
    {
     "data": {
      "text/plain": [
       "float"
      ]
     },
     "execution_count": 4,
     "metadata": {},
     "output_type": "execute_result"
    }
   ],
   "source": [
    "d = b\n",
    "type(d)"
   ]
  },
  {
   "cell_type": "code",
   "execution_count": 5,
   "id": "bca1e232",
   "metadata": {},
   "outputs": [
    {
     "data": {
      "text/plain": [
       "int"
      ]
     },
     "execution_count": 5,
     "metadata": {},
     "output_type": "execute_result"
    }
   ],
   "source": [
    "d = int(b)\n",
    "type(d)"
   ]
  },
  {
   "cell_type": "code",
   "execution_count": 6,
   "id": "15a3d82b",
   "metadata": {},
   "outputs": [
    {
     "data": {
      "text/plain": [
       "int"
      ]
     },
     "execution_count": 6,
     "metadata": {},
     "output_type": "execute_result"
    }
   ],
   "source": [
    "d = int(b)\n",
    "type(d)"
   ]
  },
  {
   "cell_type": "code",
   "execution_count": 7,
   "id": "777a2130",
   "metadata": {},
   "outputs": [
    {
     "name": "stdout",
     "output_type": "stream",
     "text": [
      "9\n"
     ]
    }
   ],
   "source": [
    "#add 2 numbers \n",
    "print(3 + 6)"
   ]
  },
  {
   "cell_type": "code",
   "execution_count": 8,
   "id": "69146bc0",
   "metadata": {},
   "outputs": [
    {
     "name": "stdout",
     "output_type": "stream",
     "text": [
      "durga\n",
      "shannu\n"
     ]
    }
   ],
   "source": [
    "print(\"durga\")\n",
    "print(\"shannu\")"
   ]
  },
  {
   "cell_type": "code",
   "execution_count": 9,
   "id": "7b85ee41",
   "metadata": {},
   "outputs": [
    {
     "name": "stdout",
     "output_type": "stream",
     "text": [
      "6-9\n"
     ]
    }
   ],
   "source": [
    "a = 6\n",
    "b = 9\n",
    "print(a,b, sep = '-')"
   ]
  },
  {
   "cell_type": "code",
   "execution_count": 10,
   "id": "978d1a5a",
   "metadata": {},
   "outputs": [
    {
     "name": "stdout",
     "output_type": "stream",
     "text": [
      "6@9\n"
     ]
    }
   ],
   "source": [
    "print(a, b, sep='@')"
   ]
  },
  {
   "cell_type": "code",
   "execution_count": 11,
   "id": "cbcc71e1",
   "metadata": {},
   "outputs": [
    {
     "name": "stdout",
     "output_type": "stream",
     "text": [
      "6\n",
      "9\n"
     ]
    }
   ],
   "source": [
    "print(a, b, sep = '\\n')"
   ]
  },
  {
   "cell_type": "code",
   "execution_count": 12,
   "id": "5f8c79a4",
   "metadata": {},
   "outputs": [],
   "source": [
    "a = input()\n"
   ]
  },
  {
   "cell_type": "code",
   "execution_count": null,
   "id": "76a0064a",
   "metadata": {},
   "outputs": [],
   "source": []
  },
  {
   "cell_type": "code",
   "execution_count": 1,
   "id": "5c5a820e",
   "metadata": {},
   "outputs": [],
   "source": [
    "num1 = input(\"Please enter the first number\")\n",
    "num2 = input(\"please enter the first number\")"
   ]
  },
  {
   "cell_type": "code",
   "execution_count": 21,
   "id": "557a70d9",
   "metadata": {},
   "outputs": [
    {
     "data": {
      "text/plain": [
       "str"
      ]
     },
     "execution_count": 21,
     "metadata": {},
     "output_type": "execute_result"
    }
   ],
   "source": [
    "type(c)"
   ]
  }
 ],
 "metadata": {
  "kernelspec": {
   "display_name": ".venv",
   "language": "python",
   "name": "python3"
  },
  "language_info": {
   "codemirror_mode": {
    "name": "ipython",
    "version": 3
   },
   "file_extension": ".py",
   "mimetype": "text/x-python",
   "name": "python",
   "nbconvert_exporter": "python",
   "pygments_lexer": "ipython3",
   "version": "3.13.3"
  }
 },
 "nbformat": 4,
 "nbformat_minor": 5
}
