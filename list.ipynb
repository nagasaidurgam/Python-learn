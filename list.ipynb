{
 "cells": [
  {
   "cell_type": "code",
   "execution_count": null,
   "id": "1eac9d3e",
   "metadata": {},
   "outputs": [],
   "source": [
    "List\n",
    "Lists are used to store multiple items in a single variable.\n",
    "\n",
    "Lists are one of 4 built-in data types in Python used to store collections of data, the other 3 are Tuple, Set, and Dictionary, all with different qualities and usage.\n",
    "\n",
    "Lists are created using square brackets: []"
   ]
  },
  {
   "cell_type": "code",
   "execution_count": null,
   "id": "b6180a8b",
   "metadata": {},
   "outputs": [],
   "source": [
    "\n",
    "\"\"\"\n",
    "List items are ordered, changeable, and allow duplicate values.\n",
    "\n",
    "List items are indexed, the first item has index [0], the second item has index [1] etc.\n",
    "\n",
    "When we say that lists are ordered, it means that the items have a defined order, and that order will not change.\n",
    "\n",
    "If you add new items to a list, the new items will be placed at the end of the list.\n",
    "\n",
    "The list is changeable, meaning that we can change, add, and remove items in a list after it has been created.\n",
    "\n",
    "Since lists are indexed, lists can have items with the same value\n",
    "\"\"\"\n"
   ]
  },
  {
   "cell_type": "code",
   "execution_count": 1,
   "id": "77d9372e",
   "metadata": {},
   "outputs": [
    {
     "name": "stdout",
     "output_type": "stream",
     "text": [
      "['Butterfly', 'Spark', 'Reynold', 'Cello']\n",
      "<class 'list'>\n"
     ]
    }
   ],
   "source": [
    "List_Pens = [\"Butterfly\",\"Spark\",\"Reynold\",\"Cello\"]\n",
    "print(List_Pens)\n",
    "print(type(List_Pens))"
   ]
  },
  {
   "cell_type": "code",
   "execution_count": 2,
   "id": "a971e14d",
   "metadata": {},
   "outputs": [
    {
     "name": "stdout",
     "output_type": "stream",
     "text": [
      "4\n"
     ]
    }
   ],
   "source": [
    "# List Length\n",
    "# To determine how many items a list has, use the len() function:\n",
    "\n",
    "print(len(List_Pens))"
   ]
  },
  {
   "cell_type": "code",
   "execution_count": 4,
   "id": "413d7db9",
   "metadata": {},
   "outputs": [
    {
     "name": "stdout",
     "output_type": "stream",
     "text": [
      "5\n"
     ]
    }
   ],
   "source": [
    "print(len(List_Pens[3]))"
   ]
  },
  {
   "cell_type": "code",
   "execution_count": 5,
   "id": "2148ab5c",
   "metadata": {},
   "outputs": [
    {
     "name": "stdout",
     "output_type": "stream",
     "text": [
      "Spark\n"
     ]
    }
   ],
   "source": [
    "\"\"\"\n",
    "Negative indexing means start from the end\n",
    "\n",
    "-1 refers to the last item, -2 refers to the second last item etc.\n",
    "\"\"\"\n",
    "print(List_Pens[-3])"
   ]
  },
  {
   "cell_type": "code",
   "execution_count": 6,
   "id": "3597b346",
   "metadata": {},
   "outputs": [
    {
     "name": "stdout",
     "output_type": "stream",
     "text": [
      "['Butterfly', 'Spark', 'Reynold', 'Cello']\n",
      "['Reynold', 'Cello']\n",
      "['Spark', 'Reynold']\n"
     ]
    }
   ],
   "source": [
    "\"\"\"\n",
    "Range of Indexes\n",
    "You can specify a range of indexes by specifying where to start and \n",
    "where to end the range.\n",
    "\n",
    "When specifying a range, the return value will be a new list with the specified items.\n",
    "\"\"\"\n",
    "print(List_Pens)\n",
    "print(List_Pens[2:4])\n",
    "print(List_Pens[1:3])"
   ]
  },
  {
   "cell_type": "code",
   "execution_count": 7,
   "id": "8cd246d1",
   "metadata": {},
   "outputs": [
    {
     "name": "stdout",
     "output_type": "stream",
     "text": [
      "['Butterfly', 'Spark Pens', 'Reynold', 'Cello']\n",
      "['Butterfly', 'Spark Pens', 'Retro', 'Cello']\n"
     ]
    }
   ],
   "source": [
    "# update the \"Spark\" item in the list to \"Spark Pen\"\n",
    "\n",
    "List_Pens[1] = \"Spark Pens\"\n",
    "print(List_Pens)\n",
    "List_Pens[2] = \"Retro\"\n",
    "print(List_Pens)"
   ]
  },
  {
   "cell_type": "code",
   "execution_count": 9,
   "id": "b33bfb6e",
   "metadata": {},
   "outputs": [
    {
     "name": "stdout",
     "output_type": "stream",
     "text": [
      "['Butterfly', 'Peirry Cardin', 'Peirry Cardin', 'Spark Pens', 'Retro', 'Cello']\n",
      "['Butterfly', 'Peirry Cardin', 'swag', 'Peirry Cardin', 'Spark Pens', 'Retro', 'Cello']\n"
     ]
    }
   ],
   "source": [
    "\"\"\"\n",
    "Insert Items\n",
    "To insert a new list item, without replacing any of the existing values, we can use the insert() method.\n",
    "\n",
    "The insert() method inserts an item at the specified index:\n",
    "\"\"\"\n",
    "\n",
    "List_Pens.insert(1,\"Peirry Cardin\")\n",
    "print(List_Pens)\n",
    "List_Pens.insert(2, \"swag\")\n",
    "print(List_Pens)"
   ]
  },
  {
   "cell_type": "code",
   "execution_count": 10,
   "id": "bc58ca2b",
   "metadata": {},
   "outputs": [
    {
     "name": "stdout",
     "output_type": "stream",
     "text": [
      "['Butterfly', 'Peirry Cardin', 'swag', 'Peirry Cardin', 'Spark Pens', 'Retro', 'Cello', 'Camel']\n",
      "['Butterfly', 'Peirry Cardin', 'swag', 'Peirry Cardin', 'Spark Pens', 'Retro', 'Cello', 'Camel', 'fox']\n"
     ]
    }
   ],
   "source": [
    "#Append Items To add an item to the end of the list, use the append() method:\n",
    "List_Pens.append(\"Camel\")\n",
    "print(List_Pens)\n",
    "\n",
    "List_Pens.append(\"fox\")\n",
    "print(List_Pens)"
   ]
  },
  {
   "cell_type": "code",
   "execution_count": 42,
   "id": "8923f796",
   "metadata": {},
   "outputs": [
    {
     "name": "stdout",
     "output_type": "stream",
     "text": [
      "['Butterfly', 'Peirry Cardin', 'swag', 'Peirry Cardin', 'Spark Pens', 'Retro', 'Cello', 'Camel', 'fox', 'Samsung', 'Samsung', 'Phillips']\n"
     ]
    }
   ],
   "source": [
    "List_Pens2 = [\"Samsung\",\"Phillips\"]\n",
    "\"\"\"\n",
    "Extend List\n",
    "To append elements from another list to the current list, use the extend() method.\n",
    "\"\"\"\n",
    "List_Pens.extend(List_Pens2)\n",
    "print(List_Pens)"
   ]
  },
  {
   "cell_type": "code",
   "execution_count": 43,
   "id": "5d00bd03",
   "metadata": {},
   "outputs": [
    {
     "name": "stdout",
     "output_type": "stream",
     "text": [
      "['Butterfly', 'Peirry Cardin', 'swag', 'Peirry Cardin', 'Spark Pens', 'Retro', 'Cello', 'Camel', 'fox', 'Samsung', 'Samsung']\n"
     ]
    }
   ],
   "source": [
    "\"\"\"Remove Specified Item\n",
    "The remove() method removes the specified item.\n",
    "\"\"\"\n",
    "\n",
    "List_Pens.remove(\"Phillips\")\n",
    "print(List_Pens)"
   ]
  },
  {
   "cell_type": "code",
   "execution_count": 44,
   "id": "e4f34e1b",
   "metadata": {},
   "outputs": [
    {
     "name": "stdout",
     "output_type": "stream",
     "text": [
      "['Butterfly', 'Peirry Cardin', 'swag', 'Peirry Cardin', 'Spark Pens', 'Retro', 'Cello', 'Camel', 'fox', 'Samsung', 'Samsung', 'Samsung', 'Phillips']\n"
     ]
    }
   ],
   "source": [
    "List_Pens2 = [\"Samsung\",\"Phillips\"]\n",
    "\"\"\"\n",
    "Extend List\n",
    "To append elements from another list to the current list, use the extend() method.\n",
    "\"\"\"\n",
    "List_Pens.extend(List_Pens2)\n",
    "print(List_Pens)"
   ]
  },
  {
   "cell_type": "code",
   "execution_count": 46,
   "id": "ca2d42ca",
   "metadata": {},
   "outputs": [
    {
     "name": "stdout",
     "output_type": "stream",
     "text": [
      "['Butterfly', 'Peirry Cardin', 'swag', 'Peirry Cardin', 'Spark Pens', 'Camel', 'fox', 'Samsung', 'Samsung', 'Samsung', 'Phillips']\n"
     ]
    }
   ],
   "source": [
    "#Remove Specified Index The pop() method removes the specified index.\n",
    "List_Pens.pop(5)\n",
    "print(List_Pens)"
   ]
  },
  {
   "cell_type": "code",
   "execution_count": 48,
   "id": "ba6b8c6e",
   "metadata": {},
   "outputs": [
    {
     "name": "stdout",
     "output_type": "stream",
     "text": [
      "[]\n",
      "[]\n"
     ]
    }
   ],
   "source": [
    "# pop() if no index is given, then the last item will be removed.\n",
    "\n",
    "print(List_Pens2)\n",
    "\n",
    "for List_items in List_Pens2:\n",
    "    List_Pens2.pop()\n",
    "\n",
    "print(List_Pens2)\n"
   ]
  },
  {
   "cell_type": "code",
   "execution_count": null,
   "id": "44be9106",
   "metadata": {},
   "outputs": [
    {
     "name": "stdout",
     "output_type": "stream",
     "text": [
      "['Butterfly', 'Peirry Cardin', 'swag', 'Peirry Cardin', 'Spark Pens', 'Samsung', 'Samsung', 'Samsung', 'Phillips']\n",
      "['Butterfly', 'Peirry Cardin', 'swag', 'Peirry Cardin', 'Spark Pens', 'Samsung', 'Samsung', 'Phillips']\n"
     ]
    }
   ],
   "source": [
    "# The del keyword also removes the specified index:\n",
    "#The del keyword can also delete the list completely.\n",
    "\n",
    "\n",
    "print(List_Pens)\n",
    "del List_Pens[6]\n",
    "print(List_Pens)"
   ]
  },
  {
   "cell_type": "code",
   "execution_count": null,
   "id": "d931f308",
   "metadata": {},
   "outputs": [
    {
     "name": "stdout",
     "output_type": "stream",
     "text": [
      "[]\n"
     ]
    }
   ],
   "source": [
    "# Clear the List The clear() method empties the list. The list still remains, but it has no content.\n",
    "\n",
    "List_Pens.clear()\n",
    "print(List_Pens)"
   ]
  },
  {
   "cell_type": "code",
   "execution_count": 12,
   "id": "4306df09",
   "metadata": {},
   "outputs": [
    {
     "name": "stdout",
     "output_type": "stream",
     "text": [
      "Hyderabad\n",
      "Secunderabad\n",
      "Bowrampet\n",
      "Kukatpally\n"
     ]
    }
   ],
   "source": [
    "Locations = [\"Hyderabad\",\"Secunderabad\",\"Bowrampet\",\"Kukatpally\"]\n",
    "\n",
    "for location in Locations:\n",
    "    print(location)"
   ]
  },
  {
   "cell_type": "code",
   "execution_count": null,
   "id": "47f55799",
   "metadata": {},
   "outputs": [],
   "source": [
    "# Sort List Alphanumerically List objects have a sort() method that will sort the list alphanumerically, ascending, by default:"
   ]
  },
  {
   "cell_type": "code",
   "execution_count": 38,
   "id": "ed53dc67",
   "metadata": {},
   "outputs": [
    {
     "name": "stdout",
     "output_type": "stream",
     "text": [
      "['Secunderabad', 'Kukatpally', 'Hyderabad', 'Bowrampet']\n",
      "['Bowrampet', 'Hyderabad', 'Kukatpally', 'Secunderabad']\n"
     ]
    }
   ],
   "source": [
    "print(Locations)\n",
    "\n",
    "Locations.sort()\n",
    "print(Locations)"
   ]
  },
  {
   "cell_type": "code",
   "execution_count": 13,
   "id": "508e64ef",
   "metadata": {},
   "outputs": [
    {
     "name": "stdout",
     "output_type": "stream",
     "text": [
      "['Secunderabad', 'Kukatpally', 'Hyderabad', 'Bowrampet']\n"
     ]
    }
   ],
   "source": [
    "Locations.sort(reverse=True)\n",
    "print(Locations)"
   ]
  },
  {
   "cell_type": "code",
   "execution_count": 21,
   "id": "e9ef50a8",
   "metadata": {},
   "outputs": [
    {
     "name": "stdout",
     "output_type": "stream",
     "text": [
      "[2, 6, 9, 12, 32, 46]\n",
      "[46, 32, 12, 9, 6, 2]\n"
     ]
    }
   ],
   "source": [
    "MyNumbers = [2,6,12,9,46,32]\n",
    "MyNumbers.sort()\n",
    "print(MyNumbers)\n",
    "MyNumbers.sort(reverse=True)\n",
    "print(MyNumbers)"
   ]
  },
  {
   "cell_type": "code",
   "execution_count": 23,
   "id": "c7d44093",
   "metadata": {},
   "outputs": [
    {
     "name": "stdout",
     "output_type": "stream",
     "text": [
      "[2, 6, 9, 12, 32, 46]\n",
      "[46, 32, 12, 9, 6, 2]\n"
     ]
    }
   ],
   "source": [
    "MyNumbers = [2,6,12,9,46,32]\n",
    "MyNumbers.sort()\n",
    "print(MyNumbers)\n",
    "MyNumbers.sort(reverse=True)\n",
    "print(MyNumbers)"
   ]
  },
  {
   "cell_type": "code",
   "execution_count": 22,
   "id": "2d79f9b5",
   "metadata": {},
   "outputs": [
    {
     "name": "stdout",
     "output_type": "stream",
     "text": [
      "[2, 6, 12, 32, 65]\n"
     ]
    }
   ],
   "source": [
    "mynum = [2,6,12,65,32]\n",
    "mynum.sort()\n",
    "print(mynum)"
   ]
  },
  {
   "cell_type": "code",
   "execution_count": 24,
   "id": "16f78599",
   "metadata": {},
   "outputs": [
    {
     "name": "stdout",
     "output_type": "stream",
     "text": [
      "[46, 32, 12, 9, 6, 2]\n",
      "[46, 32, 12, 9, 6, 2]\n"
     ]
    }
   ],
   "source": [
    "\"\"\"\n",
    "Use the copy() method\n",
    "You can use the built-in List method copy() to copy a list.\n",
    "\"\"\"\n",
    "MyNumbers_Copy = MyNumbers.copy()   \n",
    "print(MyNumbers_Copy)\n",
    "\n",
    "MyNumbers_Copy2 = list(MyNumbers)\n",
    "print(MyNumbers_Copy2)"
   ]
  },
  {
   "cell_type": "code",
   "execution_count": null,
   "id": "aae3e151",
   "metadata": {},
   "outputs": [],
   "source": []
  },
  {
   "cell_type": "code",
   "execution_count": 26,
   "id": "2c4dba64",
   "metadata": {},
   "outputs": [
    {
     "name": "stdout",
     "output_type": "stream",
     "text": [
      "['apple', 'Banana', 'Cherry', 'Roseberry', 'Grapes']\n"
     ]
    }
   ],
   "source": [
    "fruits = [\"apple\", \"Banana\", \"Cherry\", \"Roseberry\", \"Grapes\"]\n",
    "print(fruits)"
   ]
  },
  {
   "cell_type": "code",
   "execution_count": 27,
   "id": "94c001e3",
   "metadata": {},
   "outputs": [
    {
     "name": "stdout",
     "output_type": "stream",
     "text": [
      "apple\n",
      "Cherry\n",
      "Grapes\n"
     ]
    }
   ],
   "source": [
    "print(fruits[0])\n",
    "print(fruits[2])\n",
    "\n",
    "#negative indexing\n",
    "print(fruits[-1])"
   ]
  },
  {
   "cell_type": "code",
   "execution_count": 28,
   "id": "b445c78d",
   "metadata": {},
   "outputs": [
    {
     "name": "stdout",
     "output_type": "stream",
     "text": [
      "5\n",
      "6\n"
     ]
    }
   ],
   "source": [
    "#list length\n",
    "print(len(fruits))\n",
    "print(len(fruits[1]))"
   ]
  },
  {
   "cell_type": "code",
   "execution_count": 29,
   "id": "b8b340d0",
   "metadata": {},
   "outputs": [
    {
     "name": "stdout",
     "output_type": "stream",
     "text": [
      "['apple', 'Banana', 'Cherry', 'Roseberry']\n",
      "['Banana', 'Cherry']\n"
     ]
    }
   ],
   "source": [
    "#range of indexes\n",
    "print(fruits[0:4])\n",
    "print(fruits[1:3])"
   ]
  },
  {
   "cell_type": "code",
   "execution_count": 30,
   "id": "1abf5009",
   "metadata": {},
   "outputs": [
    {
     "name": "stdout",
     "output_type": "stream",
     "text": [
      "['apple', 'Guava', 'Cherry', 'Roseberry', 'Grapes']\n"
     ]
    }
   ],
   "source": [
    "#change item value\n",
    "\n",
    "fruits[1] = \"Guava\"\n",
    "print(fruits)"
   ]
  },
  {
   "cell_type": "code",
   "execution_count": 31,
   "id": "441c7425",
   "metadata": {},
   "outputs": [
    {
     "name": "stdout",
     "output_type": "stream",
     "text": [
      "['apple', 'Guava', 'Cherry', 'Roseberry', 'Grapes', 'kiwi']\n",
      "['apple', 'Guava', 'Guava', 'Cherry', 'Roseberry', 'Grapes', 'kiwi']\n"
     ]
    }
   ],
   "source": [
    "#append, insert\n",
    "fruits.append(\"kiwi\")\n",
    "print(fruits)\n",
    "fruits.insert(2, \"Guava\")\n",
    "print(fruits)\n"
   ]
  },
  {
   "cell_type": "code",
   "execution_count": 32,
   "id": "74510c99",
   "metadata": {},
   "outputs": [
    {
     "name": "stdout",
     "output_type": "stream",
     "text": [
      "['apple', 'Guava', 'Guava', 'Cherry', 'Roseberry', 'Grapes', 'kiwi', 'redapple', 'custardapple', 'greenapple']\n"
     ]
    }
   ],
   "source": [
    "#combine 2 lists\n",
    "fruits2 =[\"redapple\", \"custardapple\", \"greenapple\"]\n",
    "fruits.extend(fruits2)\n",
    "print(fruits)"
   ]
  },
  {
   "cell_type": "code",
   "execution_count": 35,
   "id": "db4d1a5a",
   "metadata": {},
   "outputs": [
    {
     "name": "stdout",
     "output_type": "stream",
     "text": [
      "['Guava', 'Guava', 'Cherry', 'Roseberry', 'Grapes', 'kiwi', 'redapple', 'custardapple', 'greenapple']\n"
     ]
    }
   ],
   "source": [
    "#remove\n",
    "fruits.remove(\"apple\")\n",
    "print(fruits)"
   ]
  },
  {
   "cell_type": "code",
   "execution_count": 36,
   "id": "b5a95775",
   "metadata": {},
   "outputs": [
    {
     "name": "stdout",
     "output_type": "stream",
     "text": [
      "Guava\n",
      "Guava\n",
      "Cherry\n",
      "Roseberry\n",
      "Grapes\n",
      "kiwi\n",
      "redapple\n",
      "custardapple\n",
      "greenapple\n",
      "Guava\n",
      "Guava\n",
      "Cherry\n",
      "Roseberry\n",
      "Grapes\n",
      "kiwi\n",
      "redapple\n",
      "custardapple\n",
      "greenapple\n"
     ]
    }
   ],
   "source": [
    "#Loop through a list\n",
    "# for loop\n",
    "for apple in fruits:\n",
    "    print(apple)\n",
    "for Guava in fruits:\n",
    "    print(Guava)\n"
   ]
  },
  {
   "cell_type": "code",
   "execution_count": 24,
   "id": "db07029a",
   "metadata": {},
   "outputs": [
    {
     "name": "stdout",
     "output_type": "stream",
     "text": [
      "apple\n",
      "Guava\n",
      "Guava\n",
      "Cherry\n",
      "Roseberry\n",
      "Grapes\n",
      "kiwi\n",
      "kiwi\n",
      "kiwi\n",
      "kiwi\n",
      "redapple\n",
      "custardapple\n",
      "greenapple\n"
     ]
    }
   ],
   "source": [
    "#while loop\n",
    "i= 0\n",
    "while i < len(fruits):\n",
    "    print(fruits[i])\n",
    "    i += 1\n"
   ]
  },
  {
   "cell_type": "code",
   "execution_count": 37,
   "id": "4c3492be",
   "metadata": {},
   "outputs": [
    {
     "name": "stdout",
     "output_type": "stream",
     "text": [
      "[1, 1, 2, 4, 6, 8, 9]\n"
     ]
    }
   ],
   "source": [
    "#sort and reverse list\n",
    "numbers = [8, 6, 9,1, 4,2,1]\n",
    "numbers.sort()  # by default ascending\n",
    "numbers.sort(reverse = True) # descending\n",
    "numbers.reverse() # Just reverse order\n",
    "print(numbers)"
   ]
  },
  {
   "cell_type": "code",
   "execution_count": 30,
   "id": "73e9fb57",
   "metadata": {},
   "outputs": [
    {
     "name": "stdout",
     "output_type": "stream",
     "text": [
      "['apple', 'Guava', 'Guava', 'Cherry', 'Roseberry', 'Grapes', 'kiwi', 'kiwi', 'kiwi', 'kiwi', 'redapple', 'custardapple', 'greenapple']\n",
      "['apple', 'Guava', 'Guava', 'Cherry', 'Roseberry', 'Grapes', 'kiwi', 'kiwi', 'kiwi', 'kiwi', 'redapple', 'custardapple', 'greenapple']\n"
     ]
    }
   ],
   "source": [
    "#copy a list\n",
    "New_fruits = fruits.copy()\n",
    "print(New_fruits)\n",
    "\n",
    "#or\n",
    "\n",
    "New_fruits = list(fruits)\n",
    "print(fruits)\n"
   ]
  },
  {
   "cell_type": "code",
   "execution_count": 1,
   "id": "d69ef294",
   "metadata": {},
   "outputs": [
    {
     "name": "stdout",
     "output_type": "stream",
     "text": [
      "list with numbers are: [1, 2, 3, 4, 5]\n"
     ]
    }
   ],
   "source": [
    "#Q1. Create a list with numbers 1 to 5 and print it.\n",
    "\n",
    "list = [1,2,3,4,5]\n",
    "print(\"list with numbers are:\", list)"
   ]
  },
  {
   "cell_type": "code",
   "execution_count": 2,
   "id": "2d38b947",
   "metadata": {},
   "outputs": [
    {
     "name": "stdout",
     "output_type": "stream",
     "text": [
      "30\n"
     ]
    }
   ],
   "source": [
    "#Q2. Access the 3rd element from the list [10, 20, 30, 40, 50].\n",
    "\n",
    "list1 = [10,20,30,40,50]\n",
    "print(list1[2])"
   ]
  },
  {
   "cell_type": "code",
   "execution_count": 3,
   "id": "faeb6b7b",
   "metadata": {},
   "outputs": [
    {
     "name": "stdout",
     "output_type": "stream",
     "text": [
      "[1, 2, 3, 4, 5, 99]\n"
     ]
    }
   ],
   "source": [
    "#Q3. Add the number 99 at the end of this list: [1, 2, 3]\n",
    "\n",
    "list.append(99)\n",
    "print(list)"
   ]
  },
  {
   "cell_type": "code",
   "execution_count": 4,
   "id": "870e2b83",
   "metadata": {},
   "outputs": [
    {
     "name": "stdout",
     "output_type": "stream",
     "text": [
      "[10, 20, 25, 30, 40, 50]\n"
     ]
    }
   ],
   "source": [
    "\n",
    "#Q4. Insert the number 25 at index 2 in the list [10, 20, 30, 40]\n",
    "\n",
    "list1.insert(2, 25)\n",
    "print(list1)"
   ]
  },
  {
   "cell_type": "code",
   "execution_count": 20,
   "id": "4199b22d",
   "metadata": {},
   "outputs": [
    {
     "name": "stdout",
     "output_type": "stream",
     "text": [
      "[10, 200, 30, 40]\n"
     ]
    }
   ],
   "source": [
    "#Q5. Remove the element 30 from this list: [10, 20, 30, 40, 50]\n",
    "\n",
    "list1 = [10,20,30,40]\n",
    "list1[1] = 200\n",
    "print(list1)"
   ]
  },
  {
   "cell_type": "code",
   "execution_count": 6,
   "id": "0ce6ec44",
   "metadata": {},
   "outputs": [
    {
     "name": "stdout",
     "output_type": "stream",
     "text": [
      "4\n"
     ]
    }
   ],
   "source": [
    "\n",
    "#Q6. What is the output of this code? \n",
    "x = [2, 4, 6, 8] \n",
    "print(len(x))\n",
    "\n"
   ]
  },
  {
   "cell_type": "code",
   "execution_count": null,
   "id": "9ea06e9f",
   "metadata": {},
   "outputs": [
    {
     "ename": "ValueError",
     "evalue": "list.remove(x): x not in list",
     "output_type": "error",
     "traceback": [
      "\u001b[31m---------------------------------------------------------------------------\u001b[39m",
      "\u001b[31mValueError\u001b[39m                                Traceback (most recent call last)",
      "\u001b[36mCell\u001b[39m\u001b[36m \u001b[39m\u001b[32mIn[11]\u001b[39m\u001b[32m, line 4\u001b[39m\n\u001b[32m      1\u001b[39m \u001b[38;5;66;03m#Q7. Replace the value 20 with 200 in this list: [10, 20, 30, 40]\u001b[39;00m\n\u001b[32m----> \u001b[39m\u001b[32m4\u001b[39m \u001b[43mlist1\u001b[49m\u001b[43m.\u001b[49m\u001b[43mremove\u001b[49m\u001b[43m(\u001b[49m\u001b[32;43m1\u001b[39;49m\u001b[43m)\u001b[49m\n\u001b[32m      5\u001b[39m \u001b[38;5;28mprint\u001b[39m(list1)\n",
      "\u001b[31mValueError\u001b[39m: list.remove(x): x not in list"
     ]
    }
   ],
   "source": [
    "\n",
    "#Q7. Replace the value 20 with 200 in this list: [10, 20, 30, 40]\n",
    "\n",
    "\n",
    "list1.remove()\n",
    "print(list1)\n"
   ]
  },
  {
   "cell_type": "code",
   "execution_count": 13,
   "id": "91daff77",
   "metadata": {},
   "outputs": [
    {
     "name": "stdout",
     "output_type": "stream",
     "text": [
      "[1, 2, 3, 4, 5]\n"
     ]
    }
   ],
   "source": [
    "\n",
    "#Q8. Combine these two lists: [1, 2, 3] and [4, 5]\n",
    "\n",
    "list3 = [1,2,3]\n",
    "list4 = [4,5]\n",
    "list3.extend (list4)\n",
    "print(list3)"
   ]
  },
  {
   "cell_type": "code",
   "execution_count": null,
   "id": "f5befbb6",
   "metadata": {},
   "outputs": [],
   "source": [
    "\n",
    "Q9. What is the output of: a = [10, 20, 30] print(a[-1])\n",
    "\n",
    "30"
   ]
  },
  {
   "cell_type": "code",
   "execution_count": 19,
   "id": "40935e0c",
   "metadata": {},
   "outputs": [
    {
     "name": "stdout",
     "output_type": "stream",
     "text": [
      "[1, 2, 5, 9]\n"
     ]
    }
   ],
   "source": [
    "\n",
    "#Q10. Sort the list [5, 2, 9, 1] in ascending order.\n",
    "\n",
    "list = [5,2,9,1]\n",
    "list.sort()\n",
    "print(list)\n",
    "\n"
   ]
  }
 ],
 "metadata": {
  "kernelspec": {
   "display_name": ".venv",
   "language": "python",
   "name": "python3"
  },
  "language_info": {
   "codemirror_mode": {
    "name": "ipython",
    "version": 3
   },
   "file_extension": ".py",
   "mimetype": "text/x-python",
   "name": "python",
   "nbconvert_exporter": "python",
   "pygments_lexer": "ipython3",
   "version": "3.13.3"
  }
 },
 "nbformat": 4,
 "nbformat_minor": 5
}
